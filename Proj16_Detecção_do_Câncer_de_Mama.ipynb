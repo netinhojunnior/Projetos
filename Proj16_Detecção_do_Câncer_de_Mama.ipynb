{
  "nbformat": 4,
  "nbformat_minor": 0,
  "metadata": {
    "colab": {
      "provenance": []
    },
    "kernelspec": {
      "name": "python3",
      "display_name": "Python 3"
    },
    "language_info": {
      "name": "python"
    },
    "widgets": {
      "application/vnd.jupyter.widget-state+json": {
        "04fdb6eb88e1460ea0666a59659c654d": {
          "model_module": "@jupyter-widgets/controls",
          "model_name": "HBoxModel",
          "model_module_version": "1.5.0",
          "state": {
            "_dom_classes": [],
            "_model_module": "@jupyter-widgets/controls",
            "_model_module_version": "1.5.0",
            "_model_name": "HBoxModel",
            "_view_count": null,
            "_view_module": "@jupyter-widgets/controls",
            "_view_module_version": "1.5.0",
            "_view_name": "HBoxView",
            "box_style": "",
            "children": [
              "IPY_MODEL_0b750556bd8647ac8defe9e0f414d2ea",
              "IPY_MODEL_4711c561c3ab4e189f50f2c6e7077742",
              "IPY_MODEL_dee72e1f2fd04267a38819d1a86fd0e0"
            ],
            "layout": "IPY_MODEL_f88c480ea7fa4e1ca0cbf2154b9a285d"
          }
        },
        "0b750556bd8647ac8defe9e0f414d2ea": {
          "model_module": "@jupyter-widgets/controls",
          "model_name": "HTMLModel",
          "model_module_version": "1.5.0",
          "state": {
            "_dom_classes": [],
            "_model_module": "@jupyter-widgets/controls",
            "_model_module_version": "1.5.0",
            "_model_name": "HTMLModel",
            "_view_count": null,
            "_view_module": "@jupyter-widgets/controls",
            "_view_module_version": "1.5.0",
            "_view_name": "HTMLView",
            "description": "",
            "description_tooltip": null,
            "layout": "IPY_MODEL_3361612726d04342bb7588fad5ec690b",
            "placeholder": "​",
            "style": "IPY_MODEL_3c175aa1ab974b649e69923235ce35d5",
            "value": "Processing: 100%"
          }
        },
        "4711c561c3ab4e189f50f2c6e7077742": {
          "model_module": "@jupyter-widgets/controls",
          "model_name": "FloatProgressModel",
          "model_module_version": "1.5.0",
          "state": {
            "_dom_classes": [],
            "_model_module": "@jupyter-widgets/controls",
            "_model_module_version": "1.5.0",
            "_model_name": "FloatProgressModel",
            "_view_count": null,
            "_view_module": "@jupyter-widgets/controls",
            "_view_module_version": "1.5.0",
            "_view_name": "ProgressView",
            "bar_style": "",
            "description": "",
            "description_tooltip": null,
            "layout": "IPY_MODEL_e5a6f499e80d4579b6ac93847ccd58de",
            "max": 65,
            "min": 0,
            "orientation": "horizontal",
            "style": "IPY_MODEL_6051437b50394610b04d3b33b9b9af7a",
            "value": 65
          }
        },
        "dee72e1f2fd04267a38819d1a86fd0e0": {
          "model_module": "@jupyter-widgets/controls",
          "model_name": "HTMLModel",
          "model_module_version": "1.5.0",
          "state": {
            "_dom_classes": [],
            "_model_module": "@jupyter-widgets/controls",
            "_model_module_version": "1.5.0",
            "_model_name": "HTMLModel",
            "_view_count": null,
            "_view_module": "@jupyter-widgets/controls",
            "_view_module_version": "1.5.0",
            "_view_name": "HTMLView",
            "description": "",
            "description_tooltip": null,
            "layout": "IPY_MODEL_ee22ab6d254849b4905637b7ab31ac1e",
            "placeholder": "​",
            "style": "IPY_MODEL_ca12263d245c4eaca2218c2ccedbdeb1",
            "value": " 65/65 [00:56&lt;00:00,  1.99it/s]"
          }
        },
        "f88c480ea7fa4e1ca0cbf2154b9a285d": {
          "model_module": "@jupyter-widgets/base",
          "model_name": "LayoutModel",
          "model_module_version": "1.2.0",
          "state": {
            "_model_module": "@jupyter-widgets/base",
            "_model_module_version": "1.2.0",
            "_model_name": "LayoutModel",
            "_view_count": null,
            "_view_module": "@jupyter-widgets/base",
            "_view_module_version": "1.2.0",
            "_view_name": "LayoutView",
            "align_content": null,
            "align_items": null,
            "align_self": null,
            "border": null,
            "bottom": null,
            "display": null,
            "flex": null,
            "flex_flow": null,
            "grid_area": null,
            "grid_auto_columns": null,
            "grid_auto_flow": null,
            "grid_auto_rows": null,
            "grid_column": null,
            "grid_gap": null,
            "grid_row": null,
            "grid_template_areas": null,
            "grid_template_columns": null,
            "grid_template_rows": null,
            "height": null,
            "justify_content": null,
            "justify_items": null,
            "left": null,
            "margin": null,
            "max_height": null,
            "max_width": null,
            "min_height": null,
            "min_width": null,
            "object_fit": null,
            "object_position": null,
            "order": null,
            "overflow": null,
            "overflow_x": null,
            "overflow_y": null,
            "padding": null,
            "right": null,
            "top": null,
            "visibility": "hidden",
            "width": null
          }
        },
        "3361612726d04342bb7588fad5ec690b": {
          "model_module": "@jupyter-widgets/base",
          "model_name": "LayoutModel",
          "model_module_version": "1.2.0",
          "state": {
            "_model_module": "@jupyter-widgets/base",
            "_model_module_version": "1.2.0",
            "_model_name": "LayoutModel",
            "_view_count": null,
            "_view_module": "@jupyter-widgets/base",
            "_view_module_version": "1.2.0",
            "_view_name": "LayoutView",
            "align_content": null,
            "align_items": null,
            "align_self": null,
            "border": null,
            "bottom": null,
            "display": null,
            "flex": null,
            "flex_flow": null,
            "grid_area": null,
            "grid_auto_columns": null,
            "grid_auto_flow": null,
            "grid_auto_rows": null,
            "grid_column": null,
            "grid_gap": null,
            "grid_row": null,
            "grid_template_areas": null,
            "grid_template_columns": null,
            "grid_template_rows": null,
            "height": null,
            "justify_content": null,
            "justify_items": null,
            "left": null,
            "margin": null,
            "max_height": null,
            "max_width": null,
            "min_height": null,
            "min_width": null,
            "object_fit": null,
            "object_position": null,
            "order": null,
            "overflow": null,
            "overflow_x": null,
            "overflow_y": null,
            "padding": null,
            "right": null,
            "top": null,
            "visibility": null,
            "width": null
          }
        },
        "3c175aa1ab974b649e69923235ce35d5": {
          "model_module": "@jupyter-widgets/controls",
          "model_name": "DescriptionStyleModel",
          "model_module_version": "1.5.0",
          "state": {
            "_model_module": "@jupyter-widgets/controls",
            "_model_module_version": "1.5.0",
            "_model_name": "DescriptionStyleModel",
            "_view_count": null,
            "_view_module": "@jupyter-widgets/base",
            "_view_module_version": "1.2.0",
            "_view_name": "StyleView",
            "description_width": ""
          }
        },
        "e5a6f499e80d4579b6ac93847ccd58de": {
          "model_module": "@jupyter-widgets/base",
          "model_name": "LayoutModel",
          "model_module_version": "1.2.0",
          "state": {
            "_model_module": "@jupyter-widgets/base",
            "_model_module_version": "1.2.0",
            "_model_name": "LayoutModel",
            "_view_count": null,
            "_view_module": "@jupyter-widgets/base",
            "_view_module_version": "1.2.0",
            "_view_name": "LayoutView",
            "align_content": null,
            "align_items": null,
            "align_self": null,
            "border": null,
            "bottom": null,
            "display": null,
            "flex": null,
            "flex_flow": null,
            "grid_area": null,
            "grid_auto_columns": null,
            "grid_auto_flow": null,
            "grid_auto_rows": null,
            "grid_column": null,
            "grid_gap": null,
            "grid_row": null,
            "grid_template_areas": null,
            "grid_template_columns": null,
            "grid_template_rows": null,
            "height": null,
            "justify_content": null,
            "justify_items": null,
            "left": null,
            "margin": null,
            "max_height": null,
            "max_width": null,
            "min_height": null,
            "min_width": null,
            "object_fit": null,
            "object_position": null,
            "order": null,
            "overflow": null,
            "overflow_x": null,
            "overflow_y": null,
            "padding": null,
            "right": null,
            "top": null,
            "visibility": null,
            "width": null
          }
        },
        "6051437b50394610b04d3b33b9b9af7a": {
          "model_module": "@jupyter-widgets/controls",
          "model_name": "ProgressStyleModel",
          "model_module_version": "1.5.0",
          "state": {
            "_model_module": "@jupyter-widgets/controls",
            "_model_module_version": "1.5.0",
            "_model_name": "ProgressStyleModel",
            "_view_count": null,
            "_view_module": "@jupyter-widgets/base",
            "_view_module_version": "1.2.0",
            "_view_name": "StyleView",
            "bar_color": null,
            "description_width": ""
          }
        },
        "ee22ab6d254849b4905637b7ab31ac1e": {
          "model_module": "@jupyter-widgets/base",
          "model_name": "LayoutModel",
          "model_module_version": "1.2.0",
          "state": {
            "_model_module": "@jupyter-widgets/base",
            "_model_module_version": "1.2.0",
            "_model_name": "LayoutModel",
            "_view_count": null,
            "_view_module": "@jupyter-widgets/base",
            "_view_module_version": "1.2.0",
            "_view_name": "LayoutView",
            "align_content": null,
            "align_items": null,
            "align_self": null,
            "border": null,
            "bottom": null,
            "display": null,
            "flex": null,
            "flex_flow": null,
            "grid_area": null,
            "grid_auto_columns": null,
            "grid_auto_flow": null,
            "grid_auto_rows": null,
            "grid_column": null,
            "grid_gap": null,
            "grid_row": null,
            "grid_template_areas": null,
            "grid_template_columns": null,
            "grid_template_rows": null,
            "height": null,
            "justify_content": null,
            "justify_items": null,
            "left": null,
            "margin": null,
            "max_height": null,
            "max_width": null,
            "min_height": null,
            "min_width": null,
            "object_fit": null,
            "object_position": null,
            "order": null,
            "overflow": null,
            "overflow_x": null,
            "overflow_y": null,
            "padding": null,
            "right": null,
            "top": null,
            "visibility": null,
            "width": null
          }
        },
        "ca12263d245c4eaca2218c2ccedbdeb1": {
          "model_module": "@jupyter-widgets/controls",
          "model_name": "DescriptionStyleModel",
          "model_module_version": "1.5.0",
          "state": {
            "_model_module": "@jupyter-widgets/controls",
            "_model_module_version": "1.5.0",
            "_model_name": "DescriptionStyleModel",
            "_view_count": null,
            "_view_module": "@jupyter-widgets/base",
            "_view_module_version": "1.2.0",
            "_view_name": "StyleView",
            "description_width": ""
          }
        }
      }
    }
  },
  "cells": [
    {
      "cell_type": "markdown",
      "source": [
        "# **Detecção do Câncer de Mama**"
      ],
      "metadata": {
        "id": "aQ0IDnBnfuf8"
      }
    },
    {
      "cell_type": "markdown",
      "source": [
        "**Objetivo**\n",
        "* Criar um algoritmo de machine learning capaz de identificar se um paciente está com câncer de mama."
      ],
      "metadata": {
        "id": "MhcM2wYCfuTm"
      }
    },
    {
      "cell_type": "markdown",
      "source": [
        "### **1. Introdução**\n",
        "\n",
        "<p align=\"justify\">\n",
        "A detecção precoce do câncer de mama é fundamental para aumentar as chances de tratamento bem-sucedido e melhorar significativamente a qualidade de vida das pacientes. Neste projeto, empregaremos técnicas de Machine Learning, utilizando algoritmos específicos para classificação, a fim de analisar e interpretar as características intricadas presentes nos dados, tais como texturas, dimensões e medidas derivadas de imagens digitalizadas de biópsias de tecido mamário.\n",
        "\n",
        "<p align=\"justify\">\n",
        "Ao se debruçar sobre o desafio da classificação binária – se a paciente está ou não com câncer de mama –, nosso objetivo é oferecer uma ferramenta clínica que possa servir como um suporte adicional aos profissionais de saúde no processo de tomada de decisão. Este trabalho não apenas visa a eficácia na identificação de casos positivos, mas também a minimização de falsos positivos, uma vez que a precisão é crucial em contextos médicos."
      ],
      "metadata": {
        "id": "FqfTtgwogDMc"
      }
    },
    {
      "cell_type": "code",
      "execution_count": null,
      "metadata": {
        "id": "_mT1_gjifnj0"
      },
      "outputs": [],
      "source": [
        "# Carregando bibliotecas\n",
        "\n",
        "import pandas as pd\n",
        "\n",
        "from sklearn.model_selection import train_test_split\n",
        "from sklearn.metrics import accuracy_score, classification_report"
      ]
    },
    {
      "cell_type": "code",
      "source": [
        "# Carregando base de dados\n",
        "\n",
        "dados = pd.read_csv('/content/drive/MyDrive/Ciência de Dados com Python/Projetos/Dados/Breast Cancer Wisconsin (Diagnostic) Data Set.csv',\n",
        "                    sep = ',')"
      ],
      "metadata": {
        "id": "BIHJLjxMhYdA"
      },
      "execution_count": null,
      "outputs": []
    },
    {
      "cell_type": "code",
      "source": [
        "# visualizando base de dados\n",
        "\n",
        "dados.head()"
      ],
      "metadata": {
        "colab": {
          "base_uri": "https://localhost:8080/",
          "height": 273
        },
        "id": "0K94svQWjBO7",
        "outputId": "26eb8ba4-d349-4ed2-d026-ad577e92252c"
      },
      "execution_count": null,
      "outputs": [
        {
          "output_type": "execute_result",
          "data": {
            "text/plain": [
              "   Id number Diagnosis  radius_mean  texture_mean  perimeter_mean  area_mean  \\\n",
              "0     842302         M        17.99         10.38          122.80     1001.0   \n",
              "1     842517         M        20.57         17.77          132.90     1326.0   \n",
              "2   84300903         M        19.69         21.25          130.00     1203.0   \n",
              "3   84348301         M        11.42         20.38           77.58      386.1   \n",
              "4   84358402         M        20.29         14.34          135.10     1297.0   \n",
              "\n",
              "   smoothness_mean  compactness_mean  concavity_mean  concave_points_mean  \\\n",
              "0          0.11840           0.27760          0.3001              0.14710   \n",
              "1          0.08474           0.07864          0.0869              0.07017   \n",
              "2          0.10960           0.15990          0.1974              0.12790   \n",
              "3          0.14250           0.28390          0.2414              0.10520   \n",
              "4          0.10030           0.13280          0.1980              0.10430   \n",
              "\n",
              "   ...  radius_worst  texture_worst  perimeter_worst  area_worst  \\\n",
              "0  ...         25.38          17.33           184.60      2019.0   \n",
              "1  ...         24.99          23.41           158.80      1956.0   \n",
              "2  ...         23.57          25.53           152.50      1709.0   \n",
              "3  ...         14.91          26.50            98.87       567.7   \n",
              "4  ...         22.54          16.67           152.20      1575.0   \n",
              "\n",
              "   smoothness_worst  compactness_worst  concavity_worst  concave_points_worst  \\\n",
              "0            0.1622             0.6656           0.7119                0.2654   \n",
              "1            0.1238             0.1866           0.2416                0.1860   \n",
              "2            0.1444             0.4245           0.4504                0.2430   \n",
              "3            0.2098             0.8663           0.6869                0.2575   \n",
              "4            0.1374             0.2050           0.4000                0.1625   \n",
              "\n",
              "   symmetry_worst  fractal_dimension_worst  \n",
              "0          0.4601                  0.11890  \n",
              "1          0.2750                  0.08902  \n",
              "2          0.3613                  0.08758  \n",
              "3          0.6638                  0.17300  \n",
              "4          0.2364                  0.07678  \n",
              "\n",
              "[5 rows x 32 columns]"
            ],
            "text/html": [
              "\n",
              "  <div id=\"df-41c7bcf5-4650-4069-8208-dc8458035ea5\" class=\"colab-df-container\">\n",
              "    <div>\n",
              "<style scoped>\n",
              "    .dataframe tbody tr th:only-of-type {\n",
              "        vertical-align: middle;\n",
              "    }\n",
              "\n",
              "    .dataframe tbody tr th {\n",
              "        vertical-align: top;\n",
              "    }\n",
              "\n",
              "    .dataframe thead th {\n",
              "        text-align: right;\n",
              "    }\n",
              "</style>\n",
              "<table border=\"1\" class=\"dataframe\">\n",
              "  <thead>\n",
              "    <tr style=\"text-align: right;\">\n",
              "      <th></th>\n",
              "      <th>Id number</th>\n",
              "      <th>Diagnosis</th>\n",
              "      <th>radius_mean</th>\n",
              "      <th>texture_mean</th>\n",
              "      <th>perimeter_mean</th>\n",
              "      <th>area_mean</th>\n",
              "      <th>smoothness_mean</th>\n",
              "      <th>compactness_mean</th>\n",
              "      <th>concavity_mean</th>\n",
              "      <th>concave_points_mean</th>\n",
              "      <th>...</th>\n",
              "      <th>radius_worst</th>\n",
              "      <th>texture_worst</th>\n",
              "      <th>perimeter_worst</th>\n",
              "      <th>area_worst</th>\n",
              "      <th>smoothness_worst</th>\n",
              "      <th>compactness_worst</th>\n",
              "      <th>concavity_worst</th>\n",
              "      <th>concave_points_worst</th>\n",
              "      <th>symmetry_worst</th>\n",
              "      <th>fractal_dimension_worst</th>\n",
              "    </tr>\n",
              "  </thead>\n",
              "  <tbody>\n",
              "    <tr>\n",
              "      <th>0</th>\n",
              "      <td>842302</td>\n",
              "      <td>M</td>\n",
              "      <td>17.99</td>\n",
              "      <td>10.38</td>\n",
              "      <td>122.80</td>\n",
              "      <td>1001.0</td>\n",
              "      <td>0.11840</td>\n",
              "      <td>0.27760</td>\n",
              "      <td>0.3001</td>\n",
              "      <td>0.14710</td>\n",
              "      <td>...</td>\n",
              "      <td>25.38</td>\n",
              "      <td>17.33</td>\n",
              "      <td>184.60</td>\n",
              "      <td>2019.0</td>\n",
              "      <td>0.1622</td>\n",
              "      <td>0.6656</td>\n",
              "      <td>0.7119</td>\n",
              "      <td>0.2654</td>\n",
              "      <td>0.4601</td>\n",
              "      <td>0.11890</td>\n",
              "    </tr>\n",
              "    <tr>\n",
              "      <th>1</th>\n",
              "      <td>842517</td>\n",
              "      <td>M</td>\n",
              "      <td>20.57</td>\n",
              "      <td>17.77</td>\n",
              "      <td>132.90</td>\n",
              "      <td>1326.0</td>\n",
              "      <td>0.08474</td>\n",
              "      <td>0.07864</td>\n",
              "      <td>0.0869</td>\n",
              "      <td>0.07017</td>\n",
              "      <td>...</td>\n",
              "      <td>24.99</td>\n",
              "      <td>23.41</td>\n",
              "      <td>158.80</td>\n",
              "      <td>1956.0</td>\n",
              "      <td>0.1238</td>\n",
              "      <td>0.1866</td>\n",
              "      <td>0.2416</td>\n",
              "      <td>0.1860</td>\n",
              "      <td>0.2750</td>\n",
              "      <td>0.08902</td>\n",
              "    </tr>\n",
              "    <tr>\n",
              "      <th>2</th>\n",
              "      <td>84300903</td>\n",
              "      <td>M</td>\n",
              "      <td>19.69</td>\n",
              "      <td>21.25</td>\n",
              "      <td>130.00</td>\n",
              "      <td>1203.0</td>\n",
              "      <td>0.10960</td>\n",
              "      <td>0.15990</td>\n",
              "      <td>0.1974</td>\n",
              "      <td>0.12790</td>\n",
              "      <td>...</td>\n",
              "      <td>23.57</td>\n",
              "      <td>25.53</td>\n",
              "      <td>152.50</td>\n",
              "      <td>1709.0</td>\n",
              "      <td>0.1444</td>\n",
              "      <td>0.4245</td>\n",
              "      <td>0.4504</td>\n",
              "      <td>0.2430</td>\n",
              "      <td>0.3613</td>\n",
              "      <td>0.08758</td>\n",
              "    </tr>\n",
              "    <tr>\n",
              "      <th>3</th>\n",
              "      <td>84348301</td>\n",
              "      <td>M</td>\n",
              "      <td>11.42</td>\n",
              "      <td>20.38</td>\n",
              "      <td>77.58</td>\n",
              "      <td>386.1</td>\n",
              "      <td>0.14250</td>\n",
              "      <td>0.28390</td>\n",
              "      <td>0.2414</td>\n",
              "      <td>0.10520</td>\n",
              "      <td>...</td>\n",
              "      <td>14.91</td>\n",
              "      <td>26.50</td>\n",
              "      <td>98.87</td>\n",
              "      <td>567.7</td>\n",
              "      <td>0.2098</td>\n",
              "      <td>0.8663</td>\n",
              "      <td>0.6869</td>\n",
              "      <td>0.2575</td>\n",
              "      <td>0.6638</td>\n",
              "      <td>0.17300</td>\n",
              "    </tr>\n",
              "    <tr>\n",
              "      <th>4</th>\n",
              "      <td>84358402</td>\n",
              "      <td>M</td>\n",
              "      <td>20.29</td>\n",
              "      <td>14.34</td>\n",
              "      <td>135.10</td>\n",
              "      <td>1297.0</td>\n",
              "      <td>0.10030</td>\n",
              "      <td>0.13280</td>\n",
              "      <td>0.1980</td>\n",
              "      <td>0.10430</td>\n",
              "      <td>...</td>\n",
              "      <td>22.54</td>\n",
              "      <td>16.67</td>\n",
              "      <td>152.20</td>\n",
              "      <td>1575.0</td>\n",
              "      <td>0.1374</td>\n",
              "      <td>0.2050</td>\n",
              "      <td>0.4000</td>\n",
              "      <td>0.1625</td>\n",
              "      <td>0.2364</td>\n",
              "      <td>0.07678</td>\n",
              "    </tr>\n",
              "  </tbody>\n",
              "</table>\n",
              "<p>5 rows × 32 columns</p>\n",
              "</div>\n",
              "    <div class=\"colab-df-buttons\">\n",
              "\n",
              "  <div class=\"colab-df-container\">\n",
              "    <button class=\"colab-df-convert\" onclick=\"convertToInteractive('df-41c7bcf5-4650-4069-8208-dc8458035ea5')\"\n",
              "            title=\"Convert this dataframe to an interactive table.\"\n",
              "            style=\"display:none;\">\n",
              "\n",
              "  <svg xmlns=\"http://www.w3.org/2000/svg\" height=\"24px\" viewBox=\"0 -960 960 960\">\n",
              "    <path d=\"M120-120v-720h720v720H120Zm60-500h600v-160H180v160Zm220 220h160v-160H400v160Zm0 220h160v-160H400v160ZM180-400h160v-160H180v160Zm440 0h160v-160H620v160ZM180-180h160v-160H180v160Zm440 0h160v-160H620v160Z\"/>\n",
              "  </svg>\n",
              "    </button>\n",
              "\n",
              "  <style>\n",
              "    .colab-df-container {\n",
              "      display:flex;\n",
              "      gap: 12px;\n",
              "    }\n",
              "\n",
              "    .colab-df-convert {\n",
              "      background-color: #E8F0FE;\n",
              "      border: none;\n",
              "      border-radius: 50%;\n",
              "      cursor: pointer;\n",
              "      display: none;\n",
              "      fill: #1967D2;\n",
              "      height: 32px;\n",
              "      padding: 0 0 0 0;\n",
              "      width: 32px;\n",
              "    }\n",
              "\n",
              "    .colab-df-convert:hover {\n",
              "      background-color: #E2EBFA;\n",
              "      box-shadow: 0px 1px 2px rgba(60, 64, 67, 0.3), 0px 1px 3px 1px rgba(60, 64, 67, 0.15);\n",
              "      fill: #174EA6;\n",
              "    }\n",
              "\n",
              "    .colab-df-buttons div {\n",
              "      margin-bottom: 4px;\n",
              "    }\n",
              "\n",
              "    [theme=dark] .colab-df-convert {\n",
              "      background-color: #3B4455;\n",
              "      fill: #D2E3FC;\n",
              "    }\n",
              "\n",
              "    [theme=dark] .colab-df-convert:hover {\n",
              "      background-color: #434B5C;\n",
              "      box-shadow: 0px 1px 3px 1px rgba(0, 0, 0, 0.15);\n",
              "      filter: drop-shadow(0px 1px 2px rgba(0, 0, 0, 0.3));\n",
              "      fill: #FFFFFF;\n",
              "    }\n",
              "  </style>\n",
              "\n",
              "    <script>\n",
              "      const buttonEl =\n",
              "        document.querySelector('#df-41c7bcf5-4650-4069-8208-dc8458035ea5 button.colab-df-convert');\n",
              "      buttonEl.style.display =\n",
              "        google.colab.kernel.accessAllowed ? 'block' : 'none';\n",
              "\n",
              "      async function convertToInteractive(key) {\n",
              "        const element = document.querySelector('#df-41c7bcf5-4650-4069-8208-dc8458035ea5');\n",
              "        const dataTable =\n",
              "          await google.colab.kernel.invokeFunction('convertToInteractive',\n",
              "                                                    [key], {});\n",
              "        if (!dataTable) return;\n",
              "\n",
              "        const docLinkHtml = 'Like what you see? Visit the ' +\n",
              "          '<a target=\"_blank\" href=https://colab.research.google.com/notebooks/data_table.ipynb>data table notebook</a>'\n",
              "          + ' to learn more about interactive tables.';\n",
              "        element.innerHTML = '';\n",
              "        dataTable['output_type'] = 'display_data';\n",
              "        await google.colab.output.renderOutput(dataTable, element);\n",
              "        const docLink = document.createElement('div');\n",
              "        docLink.innerHTML = docLinkHtml;\n",
              "        element.appendChild(docLink);\n",
              "      }\n",
              "    </script>\n",
              "  </div>\n",
              "\n",
              "\n",
              "<div id=\"df-1e3c1af3-4d07-41e0-8371-1435fee10173\">\n",
              "  <button class=\"colab-df-quickchart\" onclick=\"quickchart('df-1e3c1af3-4d07-41e0-8371-1435fee10173')\"\n",
              "            title=\"Suggest charts.\"\n",
              "            style=\"display:none;\">\n",
              "\n",
              "<svg xmlns=\"http://www.w3.org/2000/svg\" height=\"24px\"viewBox=\"0 0 24 24\"\n",
              "     width=\"24px\">\n",
              "    <g>\n",
              "        <path d=\"M19 3H5c-1.1 0-2 .9-2 2v14c0 1.1.9 2 2 2h14c1.1 0 2-.9 2-2V5c0-1.1-.9-2-2-2zM9 17H7v-7h2v7zm4 0h-2V7h2v10zm4 0h-2v-4h2v4z\"/>\n",
              "    </g>\n",
              "</svg>\n",
              "  </button>\n",
              "\n",
              "<style>\n",
              "  .colab-df-quickchart {\n",
              "      --bg-color: #E8F0FE;\n",
              "      --fill-color: #1967D2;\n",
              "      --hover-bg-color: #E2EBFA;\n",
              "      --hover-fill-color: #174EA6;\n",
              "      --disabled-fill-color: #AAA;\n",
              "      --disabled-bg-color: #DDD;\n",
              "  }\n",
              "\n",
              "  [theme=dark] .colab-df-quickchart {\n",
              "      --bg-color: #3B4455;\n",
              "      --fill-color: #D2E3FC;\n",
              "      --hover-bg-color: #434B5C;\n",
              "      --hover-fill-color: #FFFFFF;\n",
              "      --disabled-bg-color: #3B4455;\n",
              "      --disabled-fill-color: #666;\n",
              "  }\n",
              "\n",
              "  .colab-df-quickchart {\n",
              "    background-color: var(--bg-color);\n",
              "    border: none;\n",
              "    border-radius: 50%;\n",
              "    cursor: pointer;\n",
              "    display: none;\n",
              "    fill: var(--fill-color);\n",
              "    height: 32px;\n",
              "    padding: 0;\n",
              "    width: 32px;\n",
              "  }\n",
              "\n",
              "  .colab-df-quickchart:hover {\n",
              "    background-color: var(--hover-bg-color);\n",
              "    box-shadow: 0 1px 2px rgba(60, 64, 67, 0.3), 0 1px 3px 1px rgba(60, 64, 67, 0.15);\n",
              "    fill: var(--button-hover-fill-color);\n",
              "  }\n",
              "\n",
              "  .colab-df-quickchart-complete:disabled,\n",
              "  .colab-df-quickchart-complete:disabled:hover {\n",
              "    background-color: var(--disabled-bg-color);\n",
              "    fill: var(--disabled-fill-color);\n",
              "    box-shadow: none;\n",
              "  }\n",
              "\n",
              "  .colab-df-spinner {\n",
              "    border: 2px solid var(--fill-color);\n",
              "    border-color: transparent;\n",
              "    border-bottom-color: var(--fill-color);\n",
              "    animation:\n",
              "      spin 1s steps(1) infinite;\n",
              "  }\n",
              "\n",
              "  @keyframes spin {\n",
              "    0% {\n",
              "      border-color: transparent;\n",
              "      border-bottom-color: var(--fill-color);\n",
              "      border-left-color: var(--fill-color);\n",
              "    }\n",
              "    20% {\n",
              "      border-color: transparent;\n",
              "      border-left-color: var(--fill-color);\n",
              "      border-top-color: var(--fill-color);\n",
              "    }\n",
              "    30% {\n",
              "      border-color: transparent;\n",
              "      border-left-color: var(--fill-color);\n",
              "      border-top-color: var(--fill-color);\n",
              "      border-right-color: var(--fill-color);\n",
              "    }\n",
              "    40% {\n",
              "      border-color: transparent;\n",
              "      border-right-color: var(--fill-color);\n",
              "      border-top-color: var(--fill-color);\n",
              "    }\n",
              "    60% {\n",
              "      border-color: transparent;\n",
              "      border-right-color: var(--fill-color);\n",
              "    }\n",
              "    80% {\n",
              "      border-color: transparent;\n",
              "      border-right-color: var(--fill-color);\n",
              "      border-bottom-color: var(--fill-color);\n",
              "    }\n",
              "    90% {\n",
              "      border-color: transparent;\n",
              "      border-bottom-color: var(--fill-color);\n",
              "    }\n",
              "  }\n",
              "</style>\n",
              "\n",
              "  <script>\n",
              "    async function quickchart(key) {\n",
              "      const quickchartButtonEl =\n",
              "        document.querySelector('#' + key + ' button');\n",
              "      quickchartButtonEl.disabled = true;  // To prevent multiple clicks.\n",
              "      quickchartButtonEl.classList.add('colab-df-spinner');\n",
              "      try {\n",
              "        const charts = await google.colab.kernel.invokeFunction(\n",
              "            'suggestCharts', [key], {});\n",
              "      } catch (error) {\n",
              "        console.error('Error during call to suggestCharts:', error);\n",
              "      }\n",
              "      quickchartButtonEl.classList.remove('colab-df-spinner');\n",
              "      quickchartButtonEl.classList.add('colab-df-quickchart-complete');\n",
              "    }\n",
              "    (() => {\n",
              "      let quickchartButtonEl =\n",
              "        document.querySelector('#df-1e3c1af3-4d07-41e0-8371-1435fee10173 button');\n",
              "      quickchartButtonEl.style.display =\n",
              "        google.colab.kernel.accessAllowed ? 'block' : 'none';\n",
              "    })();\n",
              "  </script>\n",
              "</div>\n",
              "    </div>\n",
              "  </div>\n"
            ]
          },
          "metadata": {},
          "execution_count": 3
        }
      ]
    },
    {
      "cell_type": "markdown",
      "source": [
        "### **2. Análise Exploratória de Dados**"
      ],
      "metadata": {
        "id": "PwGQc1CAobY-"
      }
    },
    {
      "cell_type": "code",
      "source": [
        "# Verificando a informações dos dados\n",
        "\n",
        "dados.info()"
      ],
      "metadata": {
        "colab": {
          "base_uri": "https://localhost:8080/"
        },
        "id": "UYLi551JohG-",
        "outputId": "c8c4471e-3b8f-4d6c-9a01-e5ae1988aef6"
      },
      "execution_count": null,
      "outputs": [
        {
          "output_type": "stream",
          "name": "stdout",
          "text": [
            "<class 'pandas.core.frame.DataFrame'>\n",
            "RangeIndex: 569 entries, 0 to 568\n",
            "Data columns (total 32 columns):\n",
            " #   Column                   Non-Null Count  Dtype  \n",
            "---  ------                   --------------  -----  \n",
            " 0   Id number                569 non-null    int64  \n",
            " 1   Diagnosis                569 non-null    object \n",
            " 2   radius_mean              569 non-null    float64\n",
            " 3   texture_mean             569 non-null    float64\n",
            " 4   perimeter_mean           569 non-null    float64\n",
            " 5   area_mean                569 non-null    float64\n",
            " 6   smoothness_mean          569 non-null    float64\n",
            " 7   compactness_mean         569 non-null    float64\n",
            " 8   concavity_mean           569 non-null    float64\n",
            " 9   concave_points_mean      569 non-null    float64\n",
            " 10  symmetry_mean            569 non-null    float64\n",
            " 11  fractal_dimension_mean   569 non-null    float64\n",
            " 12  radius_se                569 non-null    float64\n",
            " 13  texture_se               569 non-null    float64\n",
            " 14  perimeter_se             569 non-null    float64\n",
            " 15  area_se                  569 non-null    float64\n",
            " 16  smoothness_se            569 non-null    float64\n",
            " 17  compactness_se           569 non-null    float64\n",
            " 18  concavity_se             569 non-null    float64\n",
            " 19  concave_points_se        569 non-null    float64\n",
            " 20  symmetry_se              569 non-null    float64\n",
            " 21  fractal_dimension_se     569 non-null    float64\n",
            " 22  radius_worst             569 non-null    float64\n",
            " 23  texture_worst            569 non-null    float64\n",
            " 24  perimeter_worst          569 non-null    float64\n",
            " 25  area_worst               569 non-null    float64\n",
            " 26  smoothness_worst         569 non-null    float64\n",
            " 27  compactness_worst        569 non-null    float64\n",
            " 28  concavity_worst          569 non-null    float64\n",
            " 29  concave_points_worst     569 non-null    float64\n",
            " 30  symmetry_worst           569 non-null    float64\n",
            " 31  fractal_dimension_worst  569 non-null    float64\n",
            "dtypes: float64(30), int64(1), object(1)\n",
            "memory usage: 142.4+ KB\n"
          ]
        }
      ]
    },
    {
      "cell_type": "code",
      "source": [
        "# Verificando a existência de valores faltantes\n",
        "\n",
        "dados.isnull().sum()"
      ],
      "metadata": {
        "colab": {
          "base_uri": "https://localhost:8080/"
        },
        "id": "ym240M8Mo2rb",
        "outputId": "e7ea5a0f-aad0-43d4-e964-d71e883d3596"
      },
      "execution_count": null,
      "outputs": [
        {
          "output_type": "execute_result",
          "data": {
            "text/plain": [
              "Id number                  0\n",
              "Diagnosis                  0\n",
              "radius_mean                0\n",
              "texture_mean               0\n",
              "perimeter_mean             0\n",
              "area_mean                  0\n",
              "smoothness_mean            0\n",
              "compactness_mean           0\n",
              "concavity_mean             0\n",
              "concave_points_mean        0\n",
              "symmetry_mean              0\n",
              "fractal_dimension_mean     0\n",
              "radius_se                  0\n",
              "texture_se                 0\n",
              "perimeter_se               0\n",
              "area_se                    0\n",
              "smoothness_se              0\n",
              "compactness_se             0\n",
              "concavity_se               0\n",
              "concave_points_se          0\n",
              "symmetry_se                0\n",
              "fractal_dimension_se       0\n",
              "radius_worst               0\n",
              "texture_worst              0\n",
              "perimeter_worst            0\n",
              "area_worst                 0\n",
              "smoothness_worst           0\n",
              "compactness_worst          0\n",
              "concavity_worst            0\n",
              "concave_points_worst       0\n",
              "symmetry_worst             0\n",
              "fractal_dimension_worst    0\n",
              "dtype: int64"
            ]
          },
          "metadata": {},
          "execution_count": 5
        }
      ]
    },
    {
      "cell_type": "code",
      "source": [
        "# Verificando valores únicos\n",
        "\n",
        "dados['Diagnosis'].unique()"
      ],
      "metadata": {
        "colab": {
          "base_uri": "https://localhost:8080/"
        },
        "id": "YyB_D2emuHZt",
        "outputId": "83a5b14e-030e-4870-e753-67321bc2ec19"
      },
      "execution_count": null,
      "outputs": [
        {
          "output_type": "execute_result",
          "data": {
            "text/plain": [
              "array(['M', 'B'], dtype=object)"
            ]
          },
          "metadata": {},
          "execution_count": 6
        }
      ]
    },
    {
      "cell_type": "markdown",
      "source": [
        "### **3.Pré-Processamento de Dados**"
      ],
      "metadata": {
        "id": "D3gZa-eQ3UU2"
      }
    },
    {
      "cell_type": "code",
      "source": [
        "# Alterando valores categóricos para numéricos\n",
        "\n",
        "dados[\"Diagnosis\"] = dados[\"Diagnosis\"].map({\"M\": 0, \"B\": 1})"
      ],
      "metadata": {
        "id": "aMcaPRSFt3pf"
      },
      "execution_count": null,
      "outputs": []
    },
    {
      "cell_type": "code",
      "source": [
        "# Verificando resultado da transformação e contagem de elementos\n",
        "\n",
        "dados['Diagnosis'].value_counts()"
      ],
      "metadata": {
        "colab": {
          "base_uri": "https://localhost:8080/"
        },
        "id": "TGqCAUKluWcX",
        "outputId": "747d2eab-ec1f-4ab2-f0c0-d8fb382dab8c"
      },
      "execution_count": null,
      "outputs": [
        {
          "output_type": "execute_result",
          "data": {
            "text/plain": [
              "1    357\n",
              "0    212\n",
              "Name: Diagnosis, dtype: int64"
            ]
          },
          "metadata": {},
          "execution_count": 8
        }
      ]
    },
    {
      "cell_type": "code",
      "source": [
        "# Separando dados em previsores e classes\n",
        "\n",
        "previsores = dados.drop('Diagnosis', axis = 1)\n",
        "classes = dados['Diagnosis']"
      ],
      "metadata": {
        "id": "Lg-JGd8axdQd"
      },
      "execution_count": null,
      "outputs": []
    },
    {
      "cell_type": "code",
      "source": [
        "# Dividindo os dados em treino e teste\n",
        "\n",
        "X_treino, X_teste, y_treino, y_teste = train_test_split(previsores,\n",
        "                                                        classes,\n",
        "                                                        test_size = 0.3,\n",
        "                                                        random_state = 0)"
      ],
      "metadata": {
        "id": "hPxtLlpMxvg1"
      },
      "execution_count": null,
      "outputs": []
    },
    {
      "cell_type": "code",
      "source": [
        "# Distribuição dos dados\n",
        "\n",
        "print(X_treino.shape)\n",
        "print(y_treino.shape)\n",
        "print(X_teste.shape)\n",
        "print(y_teste.shape)"
      ],
      "metadata": {
        "colab": {
          "base_uri": "https://localhost:8080/"
        },
        "id": "qW3zV9lGx-o3",
        "outputId": "4a2e04ea-eebc-49ff-a3a0-5dc9d790f546"
      },
      "execution_count": null,
      "outputs": [
        {
          "output_type": "stream",
          "name": "stdout",
          "text": [
            "(398, 31)\n",
            "(398,)\n",
            "(171, 31)\n",
            "(171,)\n"
          ]
        }
      ]
    },
    {
      "cell_type": "markdown",
      "source": [
        "### **4. Construindo Modelo**"
      ],
      "metadata": {
        "id": "b5PQvjvdyapK"
      }
    },
    {
      "cell_type": "markdown",
      "source": [
        "**OBS:** utilizaremos o PyCaret para escolha do modelo mais adequado para o conjunto de dados;"
      ],
      "metadata": {
        "id": "_bUdieGx19LZ"
      }
    },
    {
      "cell_type": "code",
      "source": [
        "# Instalando biblioteca\n",
        "\n",
        "# !pip install pycaret"
      ],
      "metadata": {
        "id": "ap3FuqmH16fw"
      },
      "execution_count": null,
      "outputs": []
    },
    {
      "cell_type": "code",
      "source": [
        "# Carregando biblioteca\n",
        "\n",
        "from pycaret.classification import *"
      ],
      "metadata": {
        "id": "iNfzMCdP16ZJ"
      },
      "execution_count": null,
      "outputs": []
    },
    {
      "cell_type": "code",
      "source": [
        "# Escolhendo o algoritmo mais adequado para o estudo\n",
        "\n",
        "clf = setup(dados, target = \"Diagnosis\", session_id = 0)\n",
        "compare_models()"
      ],
      "metadata": {
        "colab": {
          "base_uri": "https://localhost:8080/",
          "height": 1000,
          "referenced_widgets": [
            "04fdb6eb88e1460ea0666a59659c654d",
            "0b750556bd8647ac8defe9e0f414d2ea",
            "4711c561c3ab4e189f50f2c6e7077742",
            "dee72e1f2fd04267a38819d1a86fd0e0",
            "f88c480ea7fa4e1ca0cbf2154b9a285d",
            "3361612726d04342bb7588fad5ec690b",
            "3c175aa1ab974b649e69923235ce35d5",
            "e5a6f499e80d4579b6ac93847ccd58de",
            "6051437b50394610b04d3b33b9b9af7a",
            "ee22ab6d254849b4905637b7ab31ac1e",
            "ca12263d245c4eaca2218c2ccedbdeb1"
          ]
        },
        "id": "25y2fssj16Qi",
        "outputId": "8978ace9-b001-4976-8993-3a72caf19cb7"
      },
      "execution_count": null,
      "outputs": [
        {
          "output_type": "display_data",
          "data": {
            "text/plain": [
              "<pandas.io.formats.style.Styler at 0x780dd1f37a00>"
            ],
            "text/html": [
              "<style type=\"text/css\">\n",
              "#T_05d25_row8_col1 {\n",
              "  background-color: lightgreen;\n",
              "}\n",
              "</style>\n",
              "<table id=\"T_05d25\" class=\"dataframe\">\n",
              "  <thead>\n",
              "    <tr>\n",
              "      <th class=\"blank level0\" >&nbsp;</th>\n",
              "      <th id=\"T_05d25_level0_col0\" class=\"col_heading level0 col0\" >Description</th>\n",
              "      <th id=\"T_05d25_level0_col1\" class=\"col_heading level0 col1\" >Value</th>\n",
              "    </tr>\n",
              "  </thead>\n",
              "  <tbody>\n",
              "    <tr>\n",
              "      <th id=\"T_05d25_level0_row0\" class=\"row_heading level0 row0\" >0</th>\n",
              "      <td id=\"T_05d25_row0_col0\" class=\"data row0 col0\" >Session id</td>\n",
              "      <td id=\"T_05d25_row0_col1\" class=\"data row0 col1\" >0</td>\n",
              "    </tr>\n",
              "    <tr>\n",
              "      <th id=\"T_05d25_level0_row1\" class=\"row_heading level0 row1\" >1</th>\n",
              "      <td id=\"T_05d25_row1_col0\" class=\"data row1 col0\" >Target</td>\n",
              "      <td id=\"T_05d25_row1_col1\" class=\"data row1 col1\" >Diagnosis</td>\n",
              "    </tr>\n",
              "    <tr>\n",
              "      <th id=\"T_05d25_level0_row2\" class=\"row_heading level0 row2\" >2</th>\n",
              "      <td id=\"T_05d25_row2_col0\" class=\"data row2 col0\" >Target type</td>\n",
              "      <td id=\"T_05d25_row2_col1\" class=\"data row2 col1\" >Binary</td>\n",
              "    </tr>\n",
              "    <tr>\n",
              "      <th id=\"T_05d25_level0_row3\" class=\"row_heading level0 row3\" >3</th>\n",
              "      <td id=\"T_05d25_row3_col0\" class=\"data row3 col0\" >Original data shape</td>\n",
              "      <td id=\"T_05d25_row3_col1\" class=\"data row3 col1\" >(569, 32)</td>\n",
              "    </tr>\n",
              "    <tr>\n",
              "      <th id=\"T_05d25_level0_row4\" class=\"row_heading level0 row4\" >4</th>\n",
              "      <td id=\"T_05d25_row4_col0\" class=\"data row4 col0\" >Transformed data shape</td>\n",
              "      <td id=\"T_05d25_row4_col1\" class=\"data row4 col1\" >(569, 32)</td>\n",
              "    </tr>\n",
              "    <tr>\n",
              "      <th id=\"T_05d25_level0_row5\" class=\"row_heading level0 row5\" >5</th>\n",
              "      <td id=\"T_05d25_row5_col0\" class=\"data row5 col0\" >Transformed train set shape</td>\n",
              "      <td id=\"T_05d25_row5_col1\" class=\"data row5 col1\" >(398, 32)</td>\n",
              "    </tr>\n",
              "    <tr>\n",
              "      <th id=\"T_05d25_level0_row6\" class=\"row_heading level0 row6\" >6</th>\n",
              "      <td id=\"T_05d25_row6_col0\" class=\"data row6 col0\" >Transformed test set shape</td>\n",
              "      <td id=\"T_05d25_row6_col1\" class=\"data row6 col1\" >(171, 32)</td>\n",
              "    </tr>\n",
              "    <tr>\n",
              "      <th id=\"T_05d25_level0_row7\" class=\"row_heading level0 row7\" >7</th>\n",
              "      <td id=\"T_05d25_row7_col0\" class=\"data row7 col0\" >Numeric features</td>\n",
              "      <td id=\"T_05d25_row7_col1\" class=\"data row7 col1\" >31</td>\n",
              "    </tr>\n",
              "    <tr>\n",
              "      <th id=\"T_05d25_level0_row8\" class=\"row_heading level0 row8\" >8</th>\n",
              "      <td id=\"T_05d25_row8_col0\" class=\"data row8 col0\" >Preprocess</td>\n",
              "      <td id=\"T_05d25_row8_col1\" class=\"data row8 col1\" >True</td>\n",
              "    </tr>\n",
              "    <tr>\n",
              "      <th id=\"T_05d25_level0_row9\" class=\"row_heading level0 row9\" >9</th>\n",
              "      <td id=\"T_05d25_row9_col0\" class=\"data row9 col0\" >Imputation type</td>\n",
              "      <td id=\"T_05d25_row9_col1\" class=\"data row9 col1\" >simple</td>\n",
              "    </tr>\n",
              "    <tr>\n",
              "      <th id=\"T_05d25_level0_row10\" class=\"row_heading level0 row10\" >10</th>\n",
              "      <td id=\"T_05d25_row10_col0\" class=\"data row10 col0\" >Numeric imputation</td>\n",
              "      <td id=\"T_05d25_row10_col1\" class=\"data row10 col1\" >mean</td>\n",
              "    </tr>\n",
              "    <tr>\n",
              "      <th id=\"T_05d25_level0_row11\" class=\"row_heading level0 row11\" >11</th>\n",
              "      <td id=\"T_05d25_row11_col0\" class=\"data row11 col0\" >Categorical imputation</td>\n",
              "      <td id=\"T_05d25_row11_col1\" class=\"data row11 col1\" >mode</td>\n",
              "    </tr>\n",
              "    <tr>\n",
              "      <th id=\"T_05d25_level0_row12\" class=\"row_heading level0 row12\" >12</th>\n",
              "      <td id=\"T_05d25_row12_col0\" class=\"data row12 col0\" >Fold Generator</td>\n",
              "      <td id=\"T_05d25_row12_col1\" class=\"data row12 col1\" >StratifiedKFold</td>\n",
              "    </tr>\n",
              "    <tr>\n",
              "      <th id=\"T_05d25_level0_row13\" class=\"row_heading level0 row13\" >13</th>\n",
              "      <td id=\"T_05d25_row13_col0\" class=\"data row13 col0\" >Fold Number</td>\n",
              "      <td id=\"T_05d25_row13_col1\" class=\"data row13 col1\" >10</td>\n",
              "    </tr>\n",
              "    <tr>\n",
              "      <th id=\"T_05d25_level0_row14\" class=\"row_heading level0 row14\" >14</th>\n",
              "      <td id=\"T_05d25_row14_col0\" class=\"data row14 col0\" >CPU Jobs</td>\n",
              "      <td id=\"T_05d25_row14_col1\" class=\"data row14 col1\" >-1</td>\n",
              "    </tr>\n",
              "    <tr>\n",
              "      <th id=\"T_05d25_level0_row15\" class=\"row_heading level0 row15\" >15</th>\n",
              "      <td id=\"T_05d25_row15_col0\" class=\"data row15 col0\" >Use GPU</td>\n",
              "      <td id=\"T_05d25_row15_col1\" class=\"data row15 col1\" >False</td>\n",
              "    </tr>\n",
              "    <tr>\n",
              "      <th id=\"T_05d25_level0_row16\" class=\"row_heading level0 row16\" >16</th>\n",
              "      <td id=\"T_05d25_row16_col0\" class=\"data row16 col0\" >Log Experiment</td>\n",
              "      <td id=\"T_05d25_row16_col1\" class=\"data row16 col1\" >False</td>\n",
              "    </tr>\n",
              "    <tr>\n",
              "      <th id=\"T_05d25_level0_row17\" class=\"row_heading level0 row17\" >17</th>\n",
              "      <td id=\"T_05d25_row17_col0\" class=\"data row17 col0\" >Experiment Name</td>\n",
              "      <td id=\"T_05d25_row17_col1\" class=\"data row17 col1\" >clf-default-name</td>\n",
              "    </tr>\n",
              "    <tr>\n",
              "      <th id=\"T_05d25_level0_row18\" class=\"row_heading level0 row18\" >18</th>\n",
              "      <td id=\"T_05d25_row18_col0\" class=\"data row18 col0\" >USI</td>\n",
              "      <td id=\"T_05d25_row18_col1\" class=\"data row18 col1\" >479a</td>\n",
              "    </tr>\n",
              "  </tbody>\n",
              "</table>\n"
            ]
          },
          "metadata": {}
        },
        {
          "output_type": "display_data",
          "data": {
            "text/plain": [
              "<IPython.core.display.HTML object>"
            ],
            "text/html": []
          },
          "metadata": {}
        },
        {
          "output_type": "display_data",
          "data": {
            "text/plain": [
              "<pandas.io.formats.style.Styler at 0x780df4607850>"
            ],
            "text/html": [
              "<style type=\"text/css\">\n",
              "#T_58808 th {\n",
              "  text-align: left;\n",
              "}\n",
              "#T_58808_row0_col0, #T_58808_row0_col3, #T_58808_row1_col0, #T_58808_row1_col1, #T_58808_row1_col2, #T_58808_row1_col3, #T_58808_row1_col4, #T_58808_row1_col5, #T_58808_row1_col6, #T_58808_row1_col7, #T_58808_row2_col0, #T_58808_row2_col1, #T_58808_row2_col2, #T_58808_row2_col3, #T_58808_row2_col4, #T_58808_row2_col5, #T_58808_row2_col6, #T_58808_row2_col7, #T_58808_row3_col0, #T_58808_row3_col1, #T_58808_row3_col2, #T_58808_row3_col3, #T_58808_row3_col4, #T_58808_row3_col5, #T_58808_row3_col6, #T_58808_row3_col7, #T_58808_row4_col0, #T_58808_row4_col1, #T_58808_row4_col2, #T_58808_row4_col3, #T_58808_row4_col4, #T_58808_row4_col5, #T_58808_row4_col6, #T_58808_row4_col7, #T_58808_row5_col0, #T_58808_row5_col1, #T_58808_row5_col2, #T_58808_row5_col3, #T_58808_row5_col4, #T_58808_row5_col5, #T_58808_row5_col6, #T_58808_row5_col7, #T_58808_row6_col0, #T_58808_row6_col1, #T_58808_row6_col2, #T_58808_row6_col3, #T_58808_row6_col4, #T_58808_row6_col5, #T_58808_row6_col6, #T_58808_row6_col7, #T_58808_row7_col0, #T_58808_row7_col1, #T_58808_row7_col2, #T_58808_row7_col3, #T_58808_row7_col4, #T_58808_row7_col5, #T_58808_row7_col6, #T_58808_row7_col7, #T_58808_row8_col0, #T_58808_row8_col1, #T_58808_row8_col2, #T_58808_row8_col3, #T_58808_row8_col4, #T_58808_row8_col5, #T_58808_row8_col6, #T_58808_row8_col7, #T_58808_row9_col0, #T_58808_row9_col1, #T_58808_row9_col2, #T_58808_row9_col3, #T_58808_row9_col4, #T_58808_row9_col5, #T_58808_row9_col6, #T_58808_row9_col7, #T_58808_row10_col0, #T_58808_row10_col1, #T_58808_row10_col2, #T_58808_row10_col3, #T_58808_row10_col4, #T_58808_row10_col5, #T_58808_row10_col6, #T_58808_row10_col7, #T_58808_row11_col0, #T_58808_row11_col1, #T_58808_row11_col2, #T_58808_row11_col3, #T_58808_row11_col4, #T_58808_row11_col5, #T_58808_row11_col6, #T_58808_row11_col7, #T_58808_row12_col0, #T_58808_row12_col1, #T_58808_row12_col2, #T_58808_row12_col4, #T_58808_row12_col5, #T_58808_row12_col6, #T_58808_row12_col7, #T_58808_row13_col0, #T_58808_row13_col1, #T_58808_row13_col2, #T_58808_row13_col3, #T_58808_row13_col4, #T_58808_row13_col5, #T_58808_row13_col6, #T_58808_row13_col7, #T_58808_row14_col0, #T_58808_row14_col1, #T_58808_row14_col2, #T_58808_row14_col3, #T_58808_row14_col4, #T_58808_row14_col5, #T_58808_row14_col6, #T_58808_row14_col7 {\n",
              "  text-align: left;\n",
              "}\n",
              "#T_58808_row0_col1, #T_58808_row0_col2, #T_58808_row0_col4, #T_58808_row0_col5, #T_58808_row0_col6, #T_58808_row0_col7, #T_58808_row12_col3 {\n",
              "  text-align: left;\n",
              "  background-color: yellow;\n",
              "}\n",
              "#T_58808_row0_col8, #T_58808_row1_col8, #T_58808_row2_col8, #T_58808_row3_col8, #T_58808_row4_col8, #T_58808_row5_col8, #T_58808_row6_col8, #T_58808_row7_col8, #T_58808_row8_col8, #T_58808_row9_col8, #T_58808_row10_col8, #T_58808_row11_col8, #T_58808_row13_col8, #T_58808_row14_col8 {\n",
              "  text-align: left;\n",
              "  background-color: lightgrey;\n",
              "}\n",
              "#T_58808_row12_col8 {\n",
              "  text-align: left;\n",
              "  background-color: yellow;\n",
              "  background-color: lightgrey;\n",
              "}\n",
              "</style>\n",
              "<table id=\"T_58808\" class=\"dataframe\">\n",
              "  <thead>\n",
              "    <tr>\n",
              "      <th class=\"blank level0\" >&nbsp;</th>\n",
              "      <th id=\"T_58808_level0_col0\" class=\"col_heading level0 col0\" >Model</th>\n",
              "      <th id=\"T_58808_level0_col1\" class=\"col_heading level0 col1\" >Accuracy</th>\n",
              "      <th id=\"T_58808_level0_col2\" class=\"col_heading level0 col2\" >AUC</th>\n",
              "      <th id=\"T_58808_level0_col3\" class=\"col_heading level0 col3\" >Recall</th>\n",
              "      <th id=\"T_58808_level0_col4\" class=\"col_heading level0 col4\" >Prec.</th>\n",
              "      <th id=\"T_58808_level0_col5\" class=\"col_heading level0 col5\" >F1</th>\n",
              "      <th id=\"T_58808_level0_col6\" class=\"col_heading level0 col6\" >Kappa</th>\n",
              "      <th id=\"T_58808_level0_col7\" class=\"col_heading level0 col7\" >MCC</th>\n",
              "      <th id=\"T_58808_level0_col8\" class=\"col_heading level0 col8\" >TT (Sec)</th>\n",
              "    </tr>\n",
              "  </thead>\n",
              "  <tbody>\n",
              "    <tr>\n",
              "      <th id=\"T_58808_level0_row0\" class=\"row_heading level0 row0\" >et</th>\n",
              "      <td id=\"T_58808_row0_col0\" class=\"data row0 col0\" >Extra Trees Classifier</td>\n",
              "      <td id=\"T_58808_row0_col1\" class=\"data row0 col1\" >0.9749</td>\n",
              "      <td id=\"T_58808_row0_col2\" class=\"data row0 col2\" >0.9956</td>\n",
              "      <td id=\"T_58808_row0_col3\" class=\"data row0 col3\" >0.9840</td>\n",
              "      <td id=\"T_58808_row0_col4\" class=\"data row0 col4\" >0.9765</td>\n",
              "      <td id=\"T_58808_row0_col5\" class=\"data row0 col5\" >0.9801</td>\n",
              "      <td id=\"T_58808_row0_col6\" class=\"data row0 col6\" >0.9463</td>\n",
              "      <td id=\"T_58808_row0_col7\" class=\"data row0 col7\" >0.9469</td>\n",
              "      <td id=\"T_58808_row0_col8\" class=\"data row0 col8\" >0.3300</td>\n",
              "    </tr>\n",
              "    <tr>\n",
              "      <th id=\"T_58808_level0_row1\" class=\"row_heading level0 row1\" >lightgbm</th>\n",
              "      <td id=\"T_58808_row1_col0\" class=\"data row1 col0\" >Light Gradient Boosting Machine</td>\n",
              "      <td id=\"T_58808_row1_col1\" class=\"data row1 col1\" >0.9674</td>\n",
              "      <td id=\"T_58808_row1_col2\" class=\"data row1 col2\" >0.9917</td>\n",
              "      <td id=\"T_58808_row1_col3\" class=\"data row1 col3\" >0.9760</td>\n",
              "      <td id=\"T_58808_row1_col4\" class=\"data row1 col4\" >0.9732</td>\n",
              "      <td id=\"T_58808_row1_col5\" class=\"data row1 col5\" >0.9741</td>\n",
              "      <td id=\"T_58808_row1_col6\" class=\"data row1 col6\" >0.9302</td>\n",
              "      <td id=\"T_58808_row1_col7\" class=\"data row1 col7\" >0.9319</td>\n",
              "      <td id=\"T_58808_row1_col8\" class=\"data row1 col8\" >0.8350</td>\n",
              "    </tr>\n",
              "    <tr>\n",
              "      <th id=\"T_58808_level0_row2\" class=\"row_heading level0 row2\" >rf</th>\n",
              "      <td id=\"T_58808_row2_col0\" class=\"data row2 col0\" >Random Forest Classifier</td>\n",
              "      <td id=\"T_58808_row2_col1\" class=\"data row2 col1\" >0.9624</td>\n",
              "      <td id=\"T_58808_row2_col2\" class=\"data row2 col2\" >0.9942</td>\n",
              "      <td id=\"T_58808_row2_col3\" class=\"data row2 col3\" >0.9720</td>\n",
              "      <td id=\"T_58808_row2_col4\" class=\"data row2 col4\" >0.9689</td>\n",
              "      <td id=\"T_58808_row2_col5\" class=\"data row2 col5\" >0.9701</td>\n",
              "      <td id=\"T_58808_row2_col6\" class=\"data row2 col6\" >0.9195</td>\n",
              "      <td id=\"T_58808_row2_col7\" class=\"data row2 col7\" >0.9207</td>\n",
              "      <td id=\"T_58808_row2_col8\" class=\"data row2 col8\" >0.6770</td>\n",
              "    </tr>\n",
              "    <tr>\n",
              "      <th id=\"T_58808_level0_row3\" class=\"row_heading level0 row3\" >lda</th>\n",
              "      <td id=\"T_58808_row3_col0\" class=\"data row3 col0\" >Linear Discriminant Analysis</td>\n",
              "      <td id=\"T_58808_row3_col1\" class=\"data row3 col1\" >0.9624</td>\n",
              "      <td id=\"T_58808_row3_col2\" class=\"data row3 col2\" >0.9933</td>\n",
              "      <td id=\"T_58808_row3_col3\" class=\"data row3 col3\" >0.9960</td>\n",
              "      <td id=\"T_58808_row3_col4\" class=\"data row3 col4\" >0.9474</td>\n",
              "      <td id=\"T_58808_row3_col5\" class=\"data row3 col5\" >0.9709</td>\n",
              "      <td id=\"T_58808_row3_col6\" class=\"data row3 col6\" >0.9181</td>\n",
              "      <td id=\"T_58808_row3_col7\" class=\"data row3 col7\" >0.9212</td>\n",
              "      <td id=\"T_58808_row3_col8\" class=\"data row3 col8\" >0.0400</td>\n",
              "    </tr>\n",
              "    <tr>\n",
              "      <th id=\"T_58808_level0_row4\" class=\"row_heading level0 row4\" >ridge</th>\n",
              "      <td id=\"T_58808_row4_col0\" class=\"data row4 col0\" >Ridge Classifier</td>\n",
              "      <td id=\"T_58808_row4_col1\" class=\"data row4 col1\" >0.9599</td>\n",
              "      <td id=\"T_58808_row4_col2\" class=\"data row4 col2\" >0.0000</td>\n",
              "      <td id=\"T_58808_row4_col3\" class=\"data row4 col3\" >0.9920</td>\n",
              "      <td id=\"T_58808_row4_col4\" class=\"data row4 col4\" >0.9477</td>\n",
              "      <td id=\"T_58808_row4_col5\" class=\"data row4 col5\" >0.9690</td>\n",
              "      <td id=\"T_58808_row4_col6\" class=\"data row4 col6\" >0.9125</td>\n",
              "      <td id=\"T_58808_row4_col7\" class=\"data row4 col7\" >0.9157</td>\n",
              "      <td id=\"T_58808_row4_col8\" class=\"data row4 col8\" >0.0610</td>\n",
              "    </tr>\n",
              "    <tr>\n",
              "      <th id=\"T_58808_level0_row5\" class=\"row_heading level0 row5\" >xgboost</th>\n",
              "      <td id=\"T_58808_row5_col0\" class=\"data row5 col0\" >Extreme Gradient Boosting</td>\n",
              "      <td id=\"T_58808_row5_col1\" class=\"data row5 col1\" >0.9549</td>\n",
              "      <td id=\"T_58808_row5_col2\" class=\"data row5 col2\" >0.9908</td>\n",
              "      <td id=\"T_58808_row5_col3\" class=\"data row5 col3\" >0.9600</td>\n",
              "      <td id=\"T_58808_row5_col4\" class=\"data row5 col4\" >0.9686</td>\n",
              "      <td id=\"T_58808_row5_col5\" class=\"data row5 col5\" >0.9638</td>\n",
              "      <td id=\"T_58808_row5_col6\" class=\"data row5 col6\" >0.9038</td>\n",
              "      <td id=\"T_58808_row5_col7\" class=\"data row5 col7\" >0.9054</td>\n",
              "      <td id=\"T_58808_row5_col8\" class=\"data row5 col8\" >0.1760</td>\n",
              "    </tr>\n",
              "    <tr>\n",
              "      <th id=\"T_58808_level0_row6\" class=\"row_heading level0 row6\" >qda</th>\n",
              "      <td id=\"T_58808_row6_col0\" class=\"data row6 col0\" >Quadratic Discriminant Analysis</td>\n",
              "      <td id=\"T_58808_row6_col1\" class=\"data row6 col1\" >0.9523</td>\n",
              "      <td id=\"T_58808_row6_col2\" class=\"data row6 col2\" >0.9898</td>\n",
              "      <td id=\"T_58808_row6_col3\" class=\"data row6 col3\" >0.9520</td>\n",
              "      <td id=\"T_58808_row6_col4\" class=\"data row6 col4\" >0.9722</td>\n",
              "      <td id=\"T_58808_row6_col5\" class=\"data row6 col5\" >0.9616</td>\n",
              "      <td id=\"T_58808_row6_col6\" class=\"data row6 col6\" >0.8986</td>\n",
              "      <td id=\"T_58808_row6_col7\" class=\"data row6 col7\" >0.9002</td>\n",
              "      <td id=\"T_58808_row6_col8\" class=\"data row6 col8\" >0.1250</td>\n",
              "    </tr>\n",
              "    <tr>\n",
              "      <th id=\"T_58808_level0_row7\" class=\"row_heading level0 row7\" >ada</th>\n",
              "      <td id=\"T_58808_row7_col0\" class=\"data row7 col0\" >Ada Boost Classifier</td>\n",
              "      <td id=\"T_58808_row7_col1\" class=\"data row7 col1\" >0.9497</td>\n",
              "      <td id=\"T_58808_row7_col2\" class=\"data row7 col2\" >0.9858</td>\n",
              "      <td id=\"T_58808_row7_col3\" class=\"data row7 col3\" >0.9480</td>\n",
              "      <td id=\"T_58808_row7_col4\" class=\"data row7 col4\" >0.9713</td>\n",
              "      <td id=\"T_58808_row7_col5\" class=\"data row7 col5\" >0.9591</td>\n",
              "      <td id=\"T_58808_row7_col6\" class=\"data row7 col6\" >0.8940</td>\n",
              "      <td id=\"T_58808_row7_col7\" class=\"data row7 col7\" >0.8956</td>\n",
              "      <td id=\"T_58808_row7_col8\" class=\"data row7 col8\" >0.6390</td>\n",
              "    </tr>\n",
              "    <tr>\n",
              "      <th id=\"T_58808_level0_row8\" class=\"row_heading level0 row8\" >gbc</th>\n",
              "      <td id=\"T_58808_row8_col0\" class=\"data row8 col0\" >Gradient Boosting Classifier</td>\n",
              "      <td id=\"T_58808_row8_col1\" class=\"data row8 col1\" >0.9473</td>\n",
              "      <td id=\"T_58808_row8_col2\" class=\"data row8 col2\" >0.9904</td>\n",
              "      <td id=\"T_58808_row8_col3\" class=\"data row8 col3\" >0.9520</td>\n",
              "      <td id=\"T_58808_row8_col4\" class=\"data row8 col4\" >0.9650</td>\n",
              "      <td id=\"T_58808_row8_col5\" class=\"data row8 col5\" >0.9577</td>\n",
              "      <td id=\"T_58808_row8_col6\" class=\"data row8 col6\" >0.8879</td>\n",
              "      <td id=\"T_58808_row8_col7\" class=\"data row8 col7\" >0.8904</td>\n",
              "      <td id=\"T_58808_row8_col8\" class=\"data row8 col8\" >0.5530</td>\n",
              "    </tr>\n",
              "    <tr>\n",
              "      <th id=\"T_58808_level0_row9\" class=\"row_heading level0 row9\" >dt</th>\n",
              "      <td id=\"T_58808_row9_col0\" class=\"data row9 col0\" >Decision Tree Classifier</td>\n",
              "      <td id=\"T_58808_row9_col1\" class=\"data row9 col1\" >0.9400</td>\n",
              "      <td id=\"T_58808_row9_col2\" class=\"data row9 col2\" >0.9387</td>\n",
              "      <td id=\"T_58808_row9_col3\" class=\"data row9 col3\" >0.9440</td>\n",
              "      <td id=\"T_58808_row9_col4\" class=\"data row9 col4\" >0.9601</td>\n",
              "      <td id=\"T_58808_row9_col5\" class=\"data row9 col5\" >0.9514</td>\n",
              "      <td id=\"T_58808_row9_col6\" class=\"data row9 col6\" >0.8729</td>\n",
              "      <td id=\"T_58808_row9_col7\" class=\"data row9 col7\" >0.8748</td>\n",
              "      <td id=\"T_58808_row9_col8\" class=\"data row9 col8\" >0.0690</td>\n",
              "    </tr>\n",
              "    <tr>\n",
              "      <th id=\"T_58808_level0_row10\" class=\"row_heading level0 row10\" >knn</th>\n",
              "      <td id=\"T_58808_row10_col0\" class=\"data row10 col0\" >K Neighbors Classifier</td>\n",
              "      <td id=\"T_58808_row10_col1\" class=\"data row10 col1\" >0.7289</td>\n",
              "      <td id=\"T_58808_row10_col2\" class=\"data row10 col2\" >0.7683</td>\n",
              "      <td id=\"T_58808_row10_col3\" class=\"data row10 col3\" >0.8800</td>\n",
              "      <td id=\"T_58808_row10_col4\" class=\"data row10 col4\" >0.7430</td>\n",
              "      <td id=\"T_58808_row10_col5\" class=\"data row10 col5\" >0.8021</td>\n",
              "      <td id=\"T_58808_row10_col6\" class=\"data row10 col6\" >0.3770</td>\n",
              "      <td id=\"T_58808_row10_col7\" class=\"data row10 col7\" >0.4046</td>\n",
              "      <td id=\"T_58808_row10_col8\" class=\"data row10 col8\" >0.0550</td>\n",
              "    </tr>\n",
              "    <tr>\n",
              "      <th id=\"T_58808_level0_row11\" class=\"row_heading level0 row11\" >nb</th>\n",
              "      <td id=\"T_58808_row11_col0\" class=\"data row11 col0\" >Naive Bayes</td>\n",
              "      <td id=\"T_58808_row11_col1\" class=\"data row11 col1\" >0.6307</td>\n",
              "      <td id=\"T_58808_row11_col2\" class=\"data row11 col2\" >0.8747</td>\n",
              "      <td id=\"T_58808_row11_col3\" class=\"data row11 col3\" >0.9880</td>\n",
              "      <td id=\"T_58808_row11_col4\" class=\"data row11 col4\" >0.6318</td>\n",
              "      <td id=\"T_58808_row11_col5\" class=\"data row11 col5\" >0.7707</td>\n",
              "      <td id=\"T_58808_row11_col6\" class=\"data row11 col6\" >0.0179</td>\n",
              "      <td id=\"T_58808_row11_col7\" class=\"data row11 col7\" >0.0408</td>\n",
              "      <td id=\"T_58808_row11_col8\" class=\"data row11 col8\" >0.0480</td>\n",
              "    </tr>\n",
              "    <tr>\n",
              "      <th id=\"T_58808_level0_row12\" class=\"row_heading level0 row12\" >dummy</th>\n",
              "      <td id=\"T_58808_row12_col0\" class=\"data row12 col0\" >Dummy Classifier</td>\n",
              "      <td id=\"T_58808_row12_col1\" class=\"data row12 col1\" >0.6282</td>\n",
              "      <td id=\"T_58808_row12_col2\" class=\"data row12 col2\" >0.5000</td>\n",
              "      <td id=\"T_58808_row12_col3\" class=\"data row12 col3\" >1.0000</td>\n",
              "      <td id=\"T_58808_row12_col4\" class=\"data row12 col4\" >0.6282</td>\n",
              "      <td id=\"T_58808_row12_col5\" class=\"data row12 col5\" >0.7716</td>\n",
              "      <td id=\"T_58808_row12_col6\" class=\"data row12 col6\" >0.0000</td>\n",
              "      <td id=\"T_58808_row12_col7\" class=\"data row12 col7\" >0.0000</td>\n",
              "      <td id=\"T_58808_row12_col8\" class=\"data row12 col8\" >0.0270</td>\n",
              "    </tr>\n",
              "    <tr>\n",
              "      <th id=\"T_58808_level0_row13\" class=\"row_heading level0 row13\" >svm</th>\n",
              "      <td id=\"T_58808_row13_col0\" class=\"data row13 col0\" >SVM - Linear Kernel</td>\n",
              "      <td id=\"T_58808_row13_col1\" class=\"data row13 col1\" >0.5032</td>\n",
              "      <td id=\"T_58808_row13_col2\" class=\"data row13 col2\" >0.0000</td>\n",
              "      <td id=\"T_58808_row13_col3\" class=\"data row13 col3\" >0.5000</td>\n",
              "      <td id=\"T_58808_row13_col4\" class=\"data row13 col4\" >0.3157</td>\n",
              "      <td id=\"T_58808_row13_col5\" class=\"data row13 col5\" >0.3870</td>\n",
              "      <td id=\"T_58808_row13_col6\" class=\"data row13 col6\" >0.0000</td>\n",
              "      <td id=\"T_58808_row13_col7\" class=\"data row13 col7\" >0.0000</td>\n",
              "      <td id=\"T_58808_row13_col8\" class=\"data row13 col8\" >0.0550</td>\n",
              "    </tr>\n",
              "    <tr>\n",
              "      <th id=\"T_58808_level0_row14\" class=\"row_heading level0 row14\" >lr</th>\n",
              "      <td id=\"T_58808_row14_col0\" class=\"data row14 col0\" >Logistic Regression</td>\n",
              "      <td id=\"T_58808_row14_col1\" class=\"data row14 col1\" >0.4968</td>\n",
              "      <td id=\"T_58808_row14_col2\" class=\"data row14 col2\" >0.5125</td>\n",
              "      <td id=\"T_58808_row14_col3\" class=\"data row14 col3\" >0.5000</td>\n",
              "      <td id=\"T_58808_row14_col4\" class=\"data row14 col4\" >0.3125</td>\n",
              "      <td id=\"T_58808_row14_col5\" class=\"data row14 col5\" >0.3846</td>\n",
              "      <td id=\"T_58808_row14_col6\" class=\"data row14 col6\" >0.0000</td>\n",
              "      <td id=\"T_58808_row14_col7\" class=\"data row14 col7\" >0.0000</td>\n",
              "      <td id=\"T_58808_row14_col8\" class=\"data row14 col8\" >1.3730</td>\n",
              "    </tr>\n",
              "  </tbody>\n",
              "</table>\n"
            ]
          },
          "metadata": {}
        },
        {
          "output_type": "display_data",
          "data": {
            "text/plain": [
              "Processing:   0%|          | 0/65 [00:00<?, ?it/s]"
            ],
            "application/vnd.jupyter.widget-view+json": {
              "version_major": 2,
              "version_minor": 0,
              "model_id": "04fdb6eb88e1460ea0666a59659c654d"
            }
          },
          "metadata": {
            "application/vnd.jupyter.widget-view+json": {
              "colab": {
                "custom_widget_manager": {
                  "url": "https://ssl.gstatic.com/colaboratory-static/widgets/colab-cdn-widget-manager/b3e629b1971e1542/manager.min.js"
                }
              }
            }
          }
        },
        {
          "output_type": "display_data",
          "data": {
            "text/plain": [
              "<IPython.core.display.HTML object>"
            ],
            "text/html": []
          },
          "metadata": {}
        },
        {
          "output_type": "execute_result",
          "data": {
            "text/plain": [
              "ExtraTreesClassifier(bootstrap=False, ccp_alpha=0.0, class_weight=None,\n",
              "                     criterion='gini', max_depth=None, max_features='sqrt',\n",
              "                     max_leaf_nodes=None, max_samples=None,\n",
              "                     min_impurity_decrease=0.0, min_samples_leaf=1,\n",
              "                     min_samples_split=2, min_weight_fraction_leaf=0.0,\n",
              "                     n_estimators=100, n_jobs=-1, oob_score=False,\n",
              "                     random_state=0, verbose=0, warm_start=False)"
            ],
            "text/html": [
              "<style>#sk-container-id-1 {color: black;background-color: white;}#sk-container-id-1 pre{padding: 0;}#sk-container-id-1 div.sk-toggleable {background-color: white;}#sk-container-id-1 label.sk-toggleable__label {cursor: pointer;display: block;width: 100%;margin-bottom: 0;padding: 0.3em;box-sizing: border-box;text-align: center;}#sk-container-id-1 label.sk-toggleable__label-arrow:before {content: \"▸\";float: left;margin-right: 0.25em;color: #696969;}#sk-container-id-1 label.sk-toggleable__label-arrow:hover:before {color: black;}#sk-container-id-1 div.sk-estimator:hover label.sk-toggleable__label-arrow:before {color: black;}#sk-container-id-1 div.sk-toggleable__content {max-height: 0;max-width: 0;overflow: hidden;text-align: left;background-color: #f0f8ff;}#sk-container-id-1 div.sk-toggleable__content pre {margin: 0.2em;color: black;border-radius: 0.25em;background-color: #f0f8ff;}#sk-container-id-1 input.sk-toggleable__control:checked~div.sk-toggleable__content {max-height: 200px;max-width: 100%;overflow: auto;}#sk-container-id-1 input.sk-toggleable__control:checked~label.sk-toggleable__label-arrow:before {content: \"▾\";}#sk-container-id-1 div.sk-estimator input.sk-toggleable__control:checked~label.sk-toggleable__label {background-color: #d4ebff;}#sk-container-id-1 div.sk-label input.sk-toggleable__control:checked~label.sk-toggleable__label {background-color: #d4ebff;}#sk-container-id-1 input.sk-hidden--visually {border: 0;clip: rect(1px 1px 1px 1px);clip: rect(1px, 1px, 1px, 1px);height: 1px;margin: -1px;overflow: hidden;padding: 0;position: absolute;width: 1px;}#sk-container-id-1 div.sk-estimator {font-family: monospace;background-color: #f0f8ff;border: 1px dotted black;border-radius: 0.25em;box-sizing: border-box;margin-bottom: 0.5em;}#sk-container-id-1 div.sk-estimator:hover {background-color: #d4ebff;}#sk-container-id-1 div.sk-parallel-item::after {content: \"\";width: 100%;border-bottom: 1px solid gray;flex-grow: 1;}#sk-container-id-1 div.sk-label:hover label.sk-toggleable__label {background-color: #d4ebff;}#sk-container-id-1 div.sk-serial::before {content: \"\";position: absolute;border-left: 1px solid gray;box-sizing: border-box;top: 0;bottom: 0;left: 50%;z-index: 0;}#sk-container-id-1 div.sk-serial {display: flex;flex-direction: column;align-items: center;background-color: white;padding-right: 0.2em;padding-left: 0.2em;position: relative;}#sk-container-id-1 div.sk-item {position: relative;z-index: 1;}#sk-container-id-1 div.sk-parallel {display: flex;align-items: stretch;justify-content: center;background-color: white;position: relative;}#sk-container-id-1 div.sk-item::before, #sk-container-id-1 div.sk-parallel-item::before {content: \"\";position: absolute;border-left: 1px solid gray;box-sizing: border-box;top: 0;bottom: 0;left: 50%;z-index: -1;}#sk-container-id-1 div.sk-parallel-item {display: flex;flex-direction: column;z-index: 1;position: relative;background-color: white;}#sk-container-id-1 div.sk-parallel-item:first-child::after {align-self: flex-end;width: 50%;}#sk-container-id-1 div.sk-parallel-item:last-child::after {align-self: flex-start;width: 50%;}#sk-container-id-1 div.sk-parallel-item:only-child::after {width: 0;}#sk-container-id-1 div.sk-dashed-wrapped {border: 1px dashed gray;margin: 0 0.4em 0.5em 0.4em;box-sizing: border-box;padding-bottom: 0.4em;background-color: white;}#sk-container-id-1 div.sk-label label {font-family: monospace;font-weight: bold;display: inline-block;line-height: 1.2em;}#sk-container-id-1 div.sk-label-container {text-align: center;}#sk-container-id-1 div.sk-container {/* jupyter's `normalize.less` sets `[hidden] { display: none; }` but bootstrap.min.css set `[hidden] { display: none !important; }` so we also need the `!important` here to be able to override the default hidden behavior on the sphinx rendered scikit-learn.org. See: https://github.com/scikit-learn/scikit-learn/issues/21755 */display: inline-block !important;position: relative;}#sk-container-id-1 div.sk-text-repr-fallback {display: none;}</style><div id=\"sk-container-id-1\" class=\"sk-top-container\"><div class=\"sk-text-repr-fallback\"><pre>ExtraTreesClassifier(bootstrap=False, ccp_alpha=0.0, class_weight=None,\n",
              "                     criterion=&#x27;gini&#x27;, max_depth=None, max_features=&#x27;sqrt&#x27;,\n",
              "                     max_leaf_nodes=None, max_samples=None,\n",
              "                     min_impurity_decrease=0.0, min_samples_leaf=1,\n",
              "                     min_samples_split=2, min_weight_fraction_leaf=0.0,\n",
              "                     n_estimators=100, n_jobs=-1, oob_score=False,\n",
              "                     random_state=0, verbose=0, warm_start=False)</pre><b>In a Jupyter environment, please rerun this cell to show the HTML representation or trust the notebook. <br />On GitHub, the HTML representation is unable to render, please try loading this page with nbviewer.org.</b></div><div class=\"sk-container\" hidden><div class=\"sk-item\"><div class=\"sk-estimator sk-toggleable\"><input class=\"sk-toggleable__control sk-hidden--visually\" id=\"sk-estimator-id-1\" type=\"checkbox\" checked><label for=\"sk-estimator-id-1\" class=\"sk-toggleable__label sk-toggleable__label-arrow\">ExtraTreesClassifier</label><div class=\"sk-toggleable__content\"><pre>ExtraTreesClassifier(bootstrap=False, ccp_alpha=0.0, class_weight=None,\n",
              "                     criterion=&#x27;gini&#x27;, max_depth=None, max_features=&#x27;sqrt&#x27;,\n",
              "                     max_leaf_nodes=None, max_samples=None,\n",
              "                     min_impurity_decrease=0.0, min_samples_leaf=1,\n",
              "                     min_samples_split=2, min_weight_fraction_leaf=0.0,\n",
              "                     n_estimators=100, n_jobs=-1, oob_score=False,\n",
              "                     random_state=0, verbose=0, warm_start=False)</pre></div></div></div></div></div>"
            ]
          },
          "metadata": {},
          "execution_count": 14
        }
      ]
    },
    {
      "cell_type": "markdown",
      "source": [
        "**OBS 2:** utilizaremos o Extra Trees Classifier para construção do modelo."
      ],
      "metadata": {
        "id": "bAHO37MK4huD"
      }
    },
    {
      "cell_type": "code",
      "source": [
        "# Carregando biblioteca\n",
        "\n",
        "from sklearn.ensemble import ExtraTreesClassifier"
      ],
      "metadata": {
        "id": "gTEAgKCI4tar"
      },
      "execution_count": null,
      "outputs": []
    },
    {
      "cell_type": "code",
      "source": [
        "# Instânciando o modelo\n",
        "\n",
        "modelo = ExtraTreesClassifier(n_estimators = 100, random_state = 0)"
      ],
      "metadata": {
        "id": "eY0bWbIS4zQj"
      },
      "execution_count": null,
      "outputs": []
    },
    {
      "cell_type": "code",
      "source": [
        "# Treinando o modelo\n",
        "\n",
        "modelo.fit(X_treino, y_treino)"
      ],
      "metadata": {
        "colab": {
          "base_uri": "https://localhost:8080/",
          "height": 179
        },
        "id": "VDXRcAfa5Aax",
        "outputId": "37cf6e9c-f590-4ceb-9861-837d40433115"
      },
      "execution_count": null,
      "outputs": [
        {
          "output_type": "execute_result",
          "data": {
            "text/plain": [
              "ExtraTreesClassifier(bootstrap=False, ccp_alpha=0.0, class_weight=None,\n",
              "                     criterion='gini', max_depth=None, max_features='sqrt',\n",
              "                     max_leaf_nodes=None, max_samples=None,\n",
              "                     min_impurity_decrease=0.0, min_samples_leaf=1,\n",
              "                     min_samples_split=2, min_weight_fraction_leaf=0.0,\n",
              "                     n_estimators=100, n_jobs=None, oob_score=False,\n",
              "                     random_state=0, verbose=0, warm_start=False)"
            ],
            "text/html": [
              "<style>#sk-container-id-2 {color: black;background-color: white;}#sk-container-id-2 pre{padding: 0;}#sk-container-id-2 div.sk-toggleable {background-color: white;}#sk-container-id-2 label.sk-toggleable__label {cursor: pointer;display: block;width: 100%;margin-bottom: 0;padding: 0.3em;box-sizing: border-box;text-align: center;}#sk-container-id-2 label.sk-toggleable__label-arrow:before {content: \"▸\";float: left;margin-right: 0.25em;color: #696969;}#sk-container-id-2 label.sk-toggleable__label-arrow:hover:before {color: black;}#sk-container-id-2 div.sk-estimator:hover label.sk-toggleable__label-arrow:before {color: black;}#sk-container-id-2 div.sk-toggleable__content {max-height: 0;max-width: 0;overflow: hidden;text-align: left;background-color: #f0f8ff;}#sk-container-id-2 div.sk-toggleable__content pre {margin: 0.2em;color: black;border-radius: 0.25em;background-color: #f0f8ff;}#sk-container-id-2 input.sk-toggleable__control:checked~div.sk-toggleable__content {max-height: 200px;max-width: 100%;overflow: auto;}#sk-container-id-2 input.sk-toggleable__control:checked~label.sk-toggleable__label-arrow:before {content: \"▾\";}#sk-container-id-2 div.sk-estimator input.sk-toggleable__control:checked~label.sk-toggleable__label {background-color: #d4ebff;}#sk-container-id-2 div.sk-label input.sk-toggleable__control:checked~label.sk-toggleable__label {background-color: #d4ebff;}#sk-container-id-2 input.sk-hidden--visually {border: 0;clip: rect(1px 1px 1px 1px);clip: rect(1px, 1px, 1px, 1px);height: 1px;margin: -1px;overflow: hidden;padding: 0;position: absolute;width: 1px;}#sk-container-id-2 div.sk-estimator {font-family: monospace;background-color: #f0f8ff;border: 1px dotted black;border-radius: 0.25em;box-sizing: border-box;margin-bottom: 0.5em;}#sk-container-id-2 div.sk-estimator:hover {background-color: #d4ebff;}#sk-container-id-2 div.sk-parallel-item::after {content: \"\";width: 100%;border-bottom: 1px solid gray;flex-grow: 1;}#sk-container-id-2 div.sk-label:hover label.sk-toggleable__label {background-color: #d4ebff;}#sk-container-id-2 div.sk-serial::before {content: \"\";position: absolute;border-left: 1px solid gray;box-sizing: border-box;top: 0;bottom: 0;left: 50%;z-index: 0;}#sk-container-id-2 div.sk-serial {display: flex;flex-direction: column;align-items: center;background-color: white;padding-right: 0.2em;padding-left: 0.2em;position: relative;}#sk-container-id-2 div.sk-item {position: relative;z-index: 1;}#sk-container-id-2 div.sk-parallel {display: flex;align-items: stretch;justify-content: center;background-color: white;position: relative;}#sk-container-id-2 div.sk-item::before, #sk-container-id-2 div.sk-parallel-item::before {content: \"\";position: absolute;border-left: 1px solid gray;box-sizing: border-box;top: 0;bottom: 0;left: 50%;z-index: -1;}#sk-container-id-2 div.sk-parallel-item {display: flex;flex-direction: column;z-index: 1;position: relative;background-color: white;}#sk-container-id-2 div.sk-parallel-item:first-child::after {align-self: flex-end;width: 50%;}#sk-container-id-2 div.sk-parallel-item:last-child::after {align-self: flex-start;width: 50%;}#sk-container-id-2 div.sk-parallel-item:only-child::after {width: 0;}#sk-container-id-2 div.sk-dashed-wrapped {border: 1px dashed gray;margin: 0 0.4em 0.5em 0.4em;box-sizing: border-box;padding-bottom: 0.4em;background-color: white;}#sk-container-id-2 div.sk-label label {font-family: monospace;font-weight: bold;display: inline-block;line-height: 1.2em;}#sk-container-id-2 div.sk-label-container {text-align: center;}#sk-container-id-2 div.sk-container {/* jupyter's `normalize.less` sets `[hidden] { display: none; }` but bootstrap.min.css set `[hidden] { display: none !important; }` so we also need the `!important` here to be able to override the default hidden behavior on the sphinx rendered scikit-learn.org. See: https://github.com/scikit-learn/scikit-learn/issues/21755 */display: inline-block !important;position: relative;}#sk-container-id-2 div.sk-text-repr-fallback {display: none;}</style><div id=\"sk-container-id-2\" class=\"sk-top-container\"><div class=\"sk-text-repr-fallback\"><pre>ExtraTreesClassifier(bootstrap=False, ccp_alpha=0.0, class_weight=None,\n",
              "                     criterion=&#x27;gini&#x27;, max_depth=None, max_features=&#x27;sqrt&#x27;,\n",
              "                     max_leaf_nodes=None, max_samples=None,\n",
              "                     min_impurity_decrease=0.0, min_samples_leaf=1,\n",
              "                     min_samples_split=2, min_weight_fraction_leaf=0.0,\n",
              "                     n_estimators=100, n_jobs=None, oob_score=False,\n",
              "                     random_state=0, verbose=0, warm_start=False)</pre><b>In a Jupyter environment, please rerun this cell to show the HTML representation or trust the notebook. <br />On GitHub, the HTML representation is unable to render, please try loading this page with nbviewer.org.</b></div><div class=\"sk-container\" hidden><div class=\"sk-item\"><div class=\"sk-estimator sk-toggleable\"><input class=\"sk-toggleable__control sk-hidden--visually\" id=\"sk-estimator-id-2\" type=\"checkbox\" checked><label for=\"sk-estimator-id-2\" class=\"sk-toggleable__label sk-toggleable__label-arrow\">ExtraTreesClassifier</label><div class=\"sk-toggleable__content\"><pre>ExtraTreesClassifier(bootstrap=False, ccp_alpha=0.0, class_weight=None,\n",
              "                     criterion=&#x27;gini&#x27;, max_depth=None, max_features=&#x27;sqrt&#x27;,\n",
              "                     max_leaf_nodes=None, max_samples=None,\n",
              "                     min_impurity_decrease=0.0, min_samples_leaf=1,\n",
              "                     min_samples_split=2, min_weight_fraction_leaf=0.0,\n",
              "                     n_estimators=100, n_jobs=None, oob_score=False,\n",
              "                     random_state=0, verbose=0, warm_start=False)</pre></div></div></div></div></div>"
            ]
          },
          "metadata": {},
          "execution_count": 17
        }
      ]
    },
    {
      "cell_type": "code",
      "source": [
        "# Aplicando aos dados de teste\n",
        "\n",
        "y_predito = modelo.predict(X_teste)"
      ],
      "metadata": {
        "id": "UGxLJx355GUI"
      },
      "execution_count": null,
      "outputs": []
    },
    {
      "cell_type": "markdown",
      "source": [
        "### **5. Avaliando Modelo**"
      ],
      "metadata": {
        "id": "MweMxuRQzVMP"
      }
    },
    {
      "cell_type": "code",
      "source": [
        "# Métricas do modelo\n",
        "\n",
        "print(classification_report(y_teste, y_predito))"
      ],
      "metadata": {
        "colab": {
          "base_uri": "https://localhost:8080/"
        },
        "id": "EoUdF0ODzY3v",
        "outputId": "53a11a31-84a1-471c-adbf-0103ddf73c56"
      },
      "execution_count": null,
      "outputs": [
        {
          "output_type": "stream",
          "name": "stdout",
          "text": [
            "              precision    recall  f1-score   support\n",
            "\n",
            "           0       0.95      0.92      0.94        63\n",
            "           1       0.95      0.97      0.96       108\n",
            "\n",
            "    accuracy                           0.95       171\n",
            "   macro avg       0.95      0.95      0.95       171\n",
            "weighted avg       0.95      0.95      0.95       171\n",
            "\n"
          ]
        }
      ]
    },
    {
      "cell_type": "markdown",
      "source": [
        "### **6. Considerações Finais**"
      ],
      "metadata": {
        "id": "CsT135Ry8-qo"
      }
    },
    {
      "cell_type": "markdown",
      "source": [
        "<p align=\"justify\">\n",
        "Os resultados apresentados no classification report refletem um desempenho notável do modelo no contexto da identificação de pacientes com câncer de mama. As métricas de precision, recall e f1-score fornecem uma visão abrangente do desempenho do modelo em ambas as classes.\n",
        "\n",
        "<p align=\"justify\">\n",
        "Observamos uma precisão notável para ambas as classes, atingindo 95% para casos negativos (sem câncer) e 95% para casos positivos (com câncer). Isso indica a capacidade do modelo de minimizar falsos positivos e falsos negativos, sendo crucial em contextos clínicos.\n",
        "\n",
        "<p align=\"justify\">\n",
        "O recall alcançou 92% para casos negativos e 97% para casos positivos, demonstrando uma habilidade equilibrada do modelo em identificar corretamente pacientes tanto com quanto sem câncer de mama. Este equilíbrio é essencial, garantindo que o modelo não negligencie a detecção de casos positivos, enquanto mantém a precisão em um nível elevado.\n",
        "\n",
        "<p align=\"justify\">\n",
        "A acurácia global do modelo atingiu 95%, indicando uma eficácia consistente na classificação de ambas as classes. Essa métrica é especialmente relevante considerando o desequilíbrio natural entre casos positivos e negativos.\n",
        "\n",
        "<p align=\"justify\">\n",
        "A média ponderada das métricas (weighted avg) confirma a solidez geral do modelo, com um f1-score de 95%. Esta métrica considera tanto a precisão quanto o recall, proporcionando uma visão equilibrada do desempenho do modelo em ambas as classes.\n",
        "\n",
        "<p align=\"justify\">\n",
        "Em conclusão, os resultados indicam que o modelo é eficaz na identificação de casos de câncer de mama, oferecendo uma ferramenta promissora para auxiliar os profissionais de saúde no diagnóstico precoce. Contudo, é sempre crucial validar e aprimorar continuamente o modelo com base em novos dados e avanços tecnológicos, garantindo sua relevância e confiabilidade no cenário clínico em constante evolução."
      ],
      "metadata": {
        "id": "rRfrLCYr9MRd"
      }
    }
  ]
}