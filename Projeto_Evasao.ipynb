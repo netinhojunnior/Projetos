{
 "cells": [
  {
   "cell_type": "markdown",
   "id": "02b55335",
   "metadata": {},
   "source": [
    "# Evasão no Ensino Superior"
   ]
  },
  {
   "cell_type": "markdown",
   "id": "ad4bc728",
   "metadata": {},
   "source": [
    "* **Um estudo de caso com os aluno do curso de Bacharel em Estatística do Departamento de Estatística e Ciências Atuarias da UFS;**"
   ]
  },
  {
   "cell_type": "markdown",
   "id": "81cedd85",
   "metadata": {},
   "source": [
    "### Objetivo:\n",
    "* **Identificar os fatores que poderiam levar estudantes dos curso de Estatística se evadirem.**"
   ]
  },
  {
   "cell_type": "code",
   "execution_count": 1,
   "id": "7ee79654",
   "metadata": {},
   "outputs": [],
   "source": [
    "# Carregando bibliotecas\n",
    "\n",
    "import pandas as pd\n",
    "import numpy as np\n",
    "import matplotlib.pyplot as plt"
   ]
  },
  {
   "cell_type": "code",
   "execution_count": 2,
   "id": "ef121a91",
   "metadata": {},
   "outputs": [],
   "source": [
    "# Carregando base de dados\n",
    "\n",
    "dados = pd.read_excel('BD_Evasao.xls')"
   ]
  },
  {
   "cell_type": "code",
   "execution_count": 3,
   "id": "3f867f79",
   "metadata": {},
   "outputs": [
    {
     "data": {
      "text/html": [
       "<div>\n",
       "<style scoped>\n",
       "    .dataframe tbody tr th:only-of-type {\n",
       "        vertical-align: middle;\n",
       "    }\n",
       "\n",
       "    .dataframe tbody tr th {\n",
       "        vertical-align: top;\n",
       "    }\n",
       "\n",
       "    .dataframe thead th {\n",
       "        text-align: right;\n",
       "    }\n",
       "</style>\n",
       "<table border=\"1\" class=\"dataframe\">\n",
       "  <thead>\n",
       "    <tr style=\"text-align: right;\">\n",
       "      <th></th>\n",
       "      <th>ID</th>\n",
       "      <th>MATRICULA</th>\n",
       "      <th>CURSO</th>\n",
       "      <th>IDADE</th>\n",
       "      <th>GENERO</th>\n",
       "      <th>ANO_INGRESSO</th>\n",
       "      <th>B01_01</th>\n",
       "      <th>B01_02</th>\n",
       "      <th>B01_03</th>\n",
       "      <th>B01_04</th>\n",
       "      <th>...</th>\n",
       "      <th>B02_25</th>\n",
       "      <th>B02_26</th>\n",
       "      <th>B02_27</th>\n",
       "      <th>B02_28</th>\n",
       "      <th>B02_29</th>\n",
       "      <th>TROCA_CURSO</th>\n",
       "      <th>TROCA_CURSO_MOTIVO</th>\n",
       "      <th>REPROVADO_TE</th>\n",
       "      <th>REPROVADO_TE_MOTIVO</th>\n",
       "      <th>COMENTARIO</th>\n",
       "    </tr>\n",
       "  </thead>\n",
       "  <tbody>\n",
       "    <tr>\n",
       "      <th>0</th>\n",
       "      <td>2</td>\n",
       "      <td>2.016000e+11</td>\n",
       "      <td>Estatística</td>\n",
       "      <td>20.0</td>\n",
       "      <td>F</td>\n",
       "      <td>2016.0</td>\n",
       "      <td>0.0</td>\n",
       "      <td>2</td>\n",
       "      <td>0.0</td>\n",
       "      <td>0</td>\n",
       "      <td>...</td>\n",
       "      <td>1</td>\n",
       "      <td>3</td>\n",
       "      <td>1.0</td>\n",
       "      <td>1</td>\n",
       "      <td>2.0</td>\n",
       "      <td>1</td>\n",
       "      <td>NaN</td>\n",
       "      <td>1.0</td>\n",
       "      <td>NaN</td>\n",
       "      <td>NaN</td>\n",
       "    </tr>\n",
       "    <tr>\n",
       "      <th>1</th>\n",
       "      <td>3</td>\n",
       "      <td>2.017001e+11</td>\n",
       "      <td>Estatística</td>\n",
       "      <td>20.0</td>\n",
       "      <td>M</td>\n",
       "      <td>2017.0</td>\n",
       "      <td>2.0</td>\n",
       "      <td>2</td>\n",
       "      <td>1.0</td>\n",
       "      <td>2</td>\n",
       "      <td>...</td>\n",
       "      <td>2</td>\n",
       "      <td>2</td>\n",
       "      <td>2.0</td>\n",
       "      <td>1</td>\n",
       "      <td>2.0</td>\n",
       "      <td>1</td>\n",
       "      <td>NaN</td>\n",
       "      <td>1.0</td>\n",
       "      <td>NaN</td>\n",
       "      <td>NaN</td>\n",
       "    </tr>\n",
       "    <tr>\n",
       "      <th>2</th>\n",
       "      <td>4</td>\n",
       "      <td>2.017000e+11</td>\n",
       "      <td>Estatística</td>\n",
       "      <td>18.0</td>\n",
       "      <td>M</td>\n",
       "      <td>2017.0</td>\n",
       "      <td>2.0</td>\n",
       "      <td>2</td>\n",
       "      <td>2.0</td>\n",
       "      <td>2</td>\n",
       "      <td>...</td>\n",
       "      <td>2</td>\n",
       "      <td>2</td>\n",
       "      <td>3.0</td>\n",
       "      <td>0</td>\n",
       "      <td>2.0</td>\n",
       "      <td>1</td>\n",
       "      <td>NaN</td>\n",
       "      <td>1.0</td>\n",
       "      <td>NaN</td>\n",
       "      <td>NaN</td>\n",
       "    </tr>\n",
       "  </tbody>\n",
       "</table>\n",
       "<p>3 rows × 49 columns</p>\n",
       "</div>"
      ],
      "text/plain": [
       "   ID     MATRICULA        CURSO  IDADE GENERO  ANO_INGRESSO  B01_01  B01_02  \\\n",
       "0   2  2.016000e+11  Estatística   20.0      F        2016.0     0.0       2   \n",
       "1   3  2.017001e+11  Estatística   20.0      M        2017.0     2.0       2   \n",
       "2   4  2.017000e+11  Estatística   18.0      M        2017.0     2.0       2   \n",
       "\n",
       "   B01_03  B01_04  ...  B02_25 B02_26 B02_27  B02_28  B02_29  TROCA_CURSO  \\\n",
       "0     0.0       0  ...       1      3    1.0       1     2.0            1   \n",
       "1     1.0       2  ...       2      2    2.0       1     2.0            1   \n",
       "2     2.0       2  ...       2      2    3.0       0     2.0            1   \n",
       "\n",
       "  TROCA_CURSO_MOTIVO REPROVADO_TE  REPROVADO_TE_MOTIVO  COMENTARIO  \n",
       "0                NaN          1.0                  NaN         NaN  \n",
       "1                NaN          1.0                  NaN         NaN  \n",
       "2                NaN          1.0                  NaN         NaN  \n",
       "\n",
       "[3 rows x 49 columns]"
      ]
     },
     "execution_count": 3,
     "metadata": {},
     "output_type": "execute_result"
    }
   ],
   "source": [
    "# Visualizando os dados\n",
    "\n",
    "dados.head(3)"
   ]
  },
  {
   "cell_type": "code",
   "execution_count": 4,
   "id": "fcf62c3a",
   "metadata": {},
   "outputs": [],
   "source": [
    "# Realizando transformação na coluna matricula\n",
    "\n",
    "dados['MATRICULA'] = dados['MATRICULA'].values.astype(np.int64)"
   ]
  },
  {
   "cell_type": "code",
   "execution_count": 5,
   "id": "99918db1",
   "metadata": {},
   "outputs": [
    {
     "data": {
      "text/html": [
       "<div>\n",
       "<style scoped>\n",
       "    .dataframe tbody tr th:only-of-type {\n",
       "        vertical-align: middle;\n",
       "    }\n",
       "\n",
       "    .dataframe tbody tr th {\n",
       "        vertical-align: top;\n",
       "    }\n",
       "\n",
       "    .dataframe thead th {\n",
       "        text-align: right;\n",
       "    }\n",
       "</style>\n",
       "<table border=\"1\" class=\"dataframe\">\n",
       "  <thead>\n",
       "    <tr style=\"text-align: right;\">\n",
       "      <th></th>\n",
       "      <th>ID</th>\n",
       "      <th>MATRICULA</th>\n",
       "      <th>CURSO</th>\n",
       "      <th>IDADE</th>\n",
       "      <th>GENERO</th>\n",
       "      <th>ANO_INGRESSO</th>\n",
       "      <th>B01_01</th>\n",
       "      <th>B01_02</th>\n",
       "      <th>B01_03</th>\n",
       "      <th>B01_04</th>\n",
       "      <th>...</th>\n",
       "      <th>B02_25</th>\n",
       "      <th>B02_26</th>\n",
       "      <th>B02_27</th>\n",
       "      <th>B02_28</th>\n",
       "      <th>B02_29</th>\n",
       "      <th>TROCA_CURSO</th>\n",
       "      <th>TROCA_CURSO_MOTIVO</th>\n",
       "      <th>REPROVADO_TE</th>\n",
       "      <th>REPROVADO_TE_MOTIVO</th>\n",
       "      <th>COMENTARIO</th>\n",
       "    </tr>\n",
       "  </thead>\n",
       "  <tbody>\n",
       "    <tr>\n",
       "      <th>0</th>\n",
       "      <td>2</td>\n",
       "      <td>201600034910</td>\n",
       "      <td>Estatística</td>\n",
       "      <td>20.0</td>\n",
       "      <td>F</td>\n",
       "      <td>2016.0</td>\n",
       "      <td>0.0</td>\n",
       "      <td>2</td>\n",
       "      <td>0.0</td>\n",
       "      <td>0</td>\n",
       "      <td>...</td>\n",
       "      <td>1</td>\n",
       "      <td>3</td>\n",
       "      <td>1.0</td>\n",
       "      <td>1</td>\n",
       "      <td>2.0</td>\n",
       "      <td>1</td>\n",
       "      <td>NaN</td>\n",
       "      <td>1.0</td>\n",
       "      <td>NaN</td>\n",
       "      <td>NaN</td>\n",
       "    </tr>\n",
       "    <tr>\n",
       "      <th>1</th>\n",
       "      <td>3</td>\n",
       "      <td>201700119958</td>\n",
       "      <td>Estatística</td>\n",
       "      <td>20.0</td>\n",
       "      <td>M</td>\n",
       "      <td>2017.0</td>\n",
       "      <td>2.0</td>\n",
       "      <td>2</td>\n",
       "      <td>1.0</td>\n",
       "      <td>2</td>\n",
       "      <td>...</td>\n",
       "      <td>2</td>\n",
       "      <td>2</td>\n",
       "      <td>2.0</td>\n",
       "      <td>1</td>\n",
       "      <td>2.0</td>\n",
       "      <td>1</td>\n",
       "      <td>NaN</td>\n",
       "      <td>1.0</td>\n",
       "      <td>NaN</td>\n",
       "      <td>NaN</td>\n",
       "    </tr>\n",
       "    <tr>\n",
       "      <th>2</th>\n",
       "      <td>4</td>\n",
       "      <td>201700035491</td>\n",
       "      <td>Estatística</td>\n",
       "      <td>18.0</td>\n",
       "      <td>M</td>\n",
       "      <td>2017.0</td>\n",
       "      <td>2.0</td>\n",
       "      <td>2</td>\n",
       "      <td>2.0</td>\n",
       "      <td>2</td>\n",
       "      <td>...</td>\n",
       "      <td>2</td>\n",
       "      <td>2</td>\n",
       "      <td>3.0</td>\n",
       "      <td>0</td>\n",
       "      <td>2.0</td>\n",
       "      <td>1</td>\n",
       "      <td>NaN</td>\n",
       "      <td>1.0</td>\n",
       "      <td>NaN</td>\n",
       "      <td>NaN</td>\n",
       "    </tr>\n",
       "  </tbody>\n",
       "</table>\n",
       "<p>3 rows × 49 columns</p>\n",
       "</div>"
      ],
      "text/plain": [
       "   ID     MATRICULA        CURSO  IDADE GENERO  ANO_INGRESSO  B01_01  B01_02  \\\n",
       "0   2  201600034910  Estatística   20.0      F        2016.0     0.0       2   \n",
       "1   3  201700119958  Estatística   20.0      M        2017.0     2.0       2   \n",
       "2   4  201700035491  Estatística   18.0      M        2017.0     2.0       2   \n",
       "\n",
       "   B01_03  B01_04  ...  B02_25 B02_26 B02_27  B02_28  B02_29  TROCA_CURSO  \\\n",
       "0     0.0       0  ...       1      3    1.0       1     2.0            1   \n",
       "1     1.0       2  ...       2      2    2.0       1     2.0            1   \n",
       "2     2.0       2  ...       2      2    3.0       0     2.0            1   \n",
       "\n",
       "  TROCA_CURSO_MOTIVO REPROVADO_TE  REPROVADO_TE_MOTIVO  COMENTARIO  \n",
       "0                NaN          1.0                  NaN         NaN  \n",
       "1                NaN          1.0                  NaN         NaN  \n",
       "2                NaN          1.0                  NaN         NaN  \n",
       "\n",
       "[3 rows x 49 columns]"
      ]
     },
     "execution_count": 5,
     "metadata": {},
     "output_type": "execute_result"
    }
   ],
   "source": [
    "# Conferindo a transformação\n",
    "\n",
    "dados.head(3)"
   ]
  },
  {
   "cell_type": "markdown",
   "id": "c07eebbb",
   "metadata": {},
   "source": [
    "### Estatística Descritiva"
   ]
  },
  {
   "cell_type": "code",
   "execution_count": 6,
   "id": "a3e915f1",
   "metadata": {},
   "outputs": [
    {
     "name": "stdout",
     "output_type": "stream",
     "text": [
      "A média de idade dos estudantes é de 25.2 com desvio padrão de 8.2\n"
     ]
    }
   ],
   "source": [
    "# Calculando a média de idade dos estudantes\n",
    "\n",
    "print('A média de idade dos estudantes é de {:.1f} com desvio padrão de {:.1f}'.format(\n",
    "    dados.IDADE.mean(), np.std(dados.IDADE)\n",
    "))"
   ]
  },
  {
   "cell_type": "code",
   "execution_count": 7,
   "id": "0a866b31",
   "metadata": {},
   "outputs": [
    {
     "data": {
      "text/plain": [
       "M    56.7%\n",
       "F    43.3%\n",
       "Name: GENERO, dtype: object"
      ]
     },
     "execution_count": 7,
     "metadata": {},
     "output_type": "execute_result"
    }
   ],
   "source": [
    "# Gênero\n",
    "\n",
    "dados.GENERO.value_counts(normalize = True).mul(100).round(1).astype(str) + '%'"
   ]
  },
  {
   "cell_type": "code",
   "execution_count": 8,
   "id": "bac668ec",
   "metadata": {},
   "outputs": [
    {
     "data": {
      "text/plain": [
       "1    55.9%\n",
       "0    44.1%\n",
       "Name: TROCA_CURSO, dtype: object"
      ]
     },
     "execution_count": 8,
     "metadata": {},
     "output_type": "execute_result"
    }
   ],
   "source": [
    "# Porcentagem de estudantes que pensaram em trocar de curso\n",
    "# 0 = Alunos que pensaram em trocar de curso;\n",
    "# 1 = Alunos que não pensaram em trocar de curso.\n",
    "\n",
    "dados.TROCA_CURSO.value_counts(normalize = True).mul(100).round(1).astype(str) + '%'"
   ]
  },
  {
   "cell_type": "markdown",
   "id": "5e55e04c",
   "metadata": {},
   "source": [
    "### Análise de Dados 1: buscando pontos positivos e negativos"
   ]
  },
  {
   "cell_type": "markdown",
   "id": "b4732039",
   "metadata": {},
   "source": [
    "**1º) Fatores que influenciaram minha escolha do curso**"
   ]
  },
  {
   "cell_type": "markdown",
   "id": "05c17564",
   "metadata": {},
   "source": [
    "* **B01_01:** Qualidade da escola pública;\n",
    "* **B01_02:** Gratuidade do curso;\n",
    "* **B01_03:** Localização da UFS;\n",
    "* **B01_04:** Possibilidade de obter assistência estudantil: bolsa/auxílio;\n",
    "* **B01_05:** Baixa concorrência para entrar no curso;\n",
    "* **B01_06:** Impossibilidade de escolher outro curso;\n",
    "* **B01_07:** Informações que eu possuía sobre o curso antes do ingresso;\n",
    "* **B01_08:** Interesse/afinidade com a área do curso ou atuação profissional;\n",
    "* **B01_09:** Maiores chances para conseguir um trabalho/emprego."
   ]
  },
  {
   "cell_type": "code",
   "execution_count": 9,
   "id": "65b76b56",
   "metadata": {},
   "outputs": [],
   "source": [
    "a1 = dados['B01_01'].value_counts(normalize = True).mul(100).round(1).astype(str) + '%'\n",
    "a2 = dados['B01_02'].value_counts(normalize = True).mul(100).round(1).astype(str) + '%'\n",
    "a3 = dados['B01_03'].value_counts(normalize = True).mul(100).round(1).astype(str) + '%'\n",
    "a4 = dados['B01_04'].value_counts(normalize = True).mul(100).round(1).astype(str) + '%'\n",
    "a5 = dados['B01_05'].value_counts(normalize = True).mul(100).round(1).astype(str) + '%'\n",
    "a6 = dados['B01_06'].value_counts(normalize = True).mul(100).round(1).astype(str) + '%'\n",
    "a7 = dados['B01_07'].value_counts(normalize = True).mul(100).round(1).astype(str) + '%'\n",
    "a8 = dados['B01_08'].value_counts(normalize = True).mul(100).round(1).astype(str) + '%'\n",
    "a9 = dados['B01_09'].value_counts(normalize = True).mul(100).round(1).astype(str) + '%'\n",
    "\n",
    "bloco1 = pd.DataFrame({'B01_01': a1, 'B01_02': a2, 'B01_03': a3, 'B01_04': a4,\n",
    "                       'B01_05': a5, 'B01_06': a6, 'B01_07': a7, 'B01_08': a8,\n",
    "                       'B01_09': a9,})"
   ]
  },
  {
   "cell_type": "code",
   "execution_count": 10,
   "id": "0db1b96c",
   "metadata": {},
   "outputs": [
    {
     "data": {
      "text/html": [
       "<div>\n",
       "<style scoped>\n",
       "    .dataframe tbody tr th:only-of-type {\n",
       "        vertical-align: middle;\n",
       "    }\n",
       "\n",
       "    .dataframe tbody tr th {\n",
       "        vertical-align: top;\n",
       "    }\n",
       "\n",
       "    .dataframe thead th {\n",
       "        text-align: right;\n",
       "    }\n",
       "</style>\n",
       "<table border=\"1\" class=\"dataframe\">\n",
       "  <thead>\n",
       "    <tr style=\"text-align: right;\">\n",
       "      <th></th>\n",
       "      <th>B01_01</th>\n",
       "      <th>B01_02</th>\n",
       "      <th>B01_03</th>\n",
       "      <th>B01_04</th>\n",
       "      <th>B01_05</th>\n",
       "      <th>B01_06</th>\n",
       "      <th>B01_07</th>\n",
       "      <th>B01_08</th>\n",
       "      <th>B01_09</th>\n",
       "    </tr>\n",
       "  </thead>\n",
       "  <tbody>\n",
       "    <tr>\n",
       "      <th>0.0</th>\n",
       "      <td>14.9%</td>\n",
       "      <td>10.3%</td>\n",
       "      <td>44.8%</td>\n",
       "      <td>64.7%</td>\n",
       "      <td>38.2%</td>\n",
       "      <td>55.2%</td>\n",
       "      <td>23.5%</td>\n",
       "      <td>11.9%</td>\n",
       "      <td>19.1%</td>\n",
       "    </tr>\n",
       "    <tr>\n",
       "      <th>1.0</th>\n",
       "      <td>32.8%</td>\n",
       "      <td>14.7%</td>\n",
       "      <td>26.9%</td>\n",
       "      <td>20.6%</td>\n",
       "      <td>50.0%</td>\n",
       "      <td>29.9%</td>\n",
       "      <td>44.1%</td>\n",
       "      <td>47.8%</td>\n",
       "      <td>39.7%</td>\n",
       "    </tr>\n",
       "    <tr>\n",
       "      <th>2.0</th>\n",
       "      <td>52.2%</td>\n",
       "      <td>75.0%</td>\n",
       "      <td>28.4%</td>\n",
       "      <td>14.7%</td>\n",
       "      <td>11.8%</td>\n",
       "      <td>13.4%</td>\n",
       "      <td>30.9%</td>\n",
       "      <td>40.3%</td>\n",
       "      <td>41.2%</td>\n",
       "    </tr>\n",
       "    <tr>\n",
       "      <th>*</th>\n",
       "      <td>NaN</td>\n",
       "      <td>NaN</td>\n",
       "      <td>NaN</td>\n",
       "      <td>NaN</td>\n",
       "      <td>NaN</td>\n",
       "      <td>1.5%</td>\n",
       "      <td>1.5%</td>\n",
       "      <td>NaN</td>\n",
       "      <td>NaN</td>\n",
       "    </tr>\n",
       "  </tbody>\n",
       "</table>\n",
       "</div>"
      ],
      "text/plain": [
       "    B01_01 B01_02 B01_03 B01_04 B01_05 B01_06 B01_07 B01_08 B01_09\n",
       "0.0  14.9%  10.3%  44.8%  64.7%  38.2%  55.2%  23.5%  11.9%  19.1%\n",
       "1.0  32.8%  14.7%  26.9%  20.6%  50.0%  29.9%  44.1%  47.8%  39.7%\n",
       "2.0  52.2%  75.0%  28.4%  14.7%  11.8%  13.4%  30.9%  40.3%  41.2%\n",
       "*      NaN    NaN    NaN    NaN    NaN   1.5%   1.5%    NaN    NaN"
      ]
     },
     "execution_count": 10,
     "metadata": {},
     "output_type": "execute_result"
    }
   ],
   "source": [
    "bloco1"
   ]
  },
  {
   "cell_type": "markdown",
   "id": "ad8f1b6e",
   "metadata": {},
   "source": [
    "**2º) Conteúdo e Curso**"
   ]
  },
  {
   "cell_type": "markdown",
   "id": "3176af10",
   "metadata": {},
   "source": [
    "* **B02_01:** Afinidade com o curso escolhido;\n",
    "* **B02_02:** Relação do meu curso com meus interesses pessoais;\n",
    "* **B02_03:** Carga horária semanal do curso;\n",
    "* **B02_04:** Esclarecimento de dúvidas quanto ao conteúdo das disciplinas;\n",
    "* **B02_05:** Importância dos conteúdos aprendidos;\n",
    "* **B02_06:** Compreensão dos conteúdos das disciplinas;\n",
    "* **B02_07:** Relação entre a teoria e prática nas disciplinas;\n",
    "* **B02_08:** Atendimento de minhas expectativas no curso;\n",
    "* **B02_09:** Contribuição do curso para minha formação profissional;\n",
    "* **B02_10:** Sistema de avaliação utilizado no curso;\n",
    "* **B02_11:** Desempenho no curso até o momento."
   ]
  },
  {
   "cell_type": "code",
   "execution_count": 11,
   "id": "f97a9291",
   "metadata": {},
   "outputs": [],
   "source": [
    "b1 = dados['B02_01'].value_counts(normalize = True).mul(100).round(1).astype(str) + '%'\n",
    "b2 = dados['B02_02'].value_counts(normalize = True).mul(100).round(1).astype(str) + '%'\n",
    "b3 = dados['B02_03'].value_counts(normalize = True).mul(100).round(1).astype(str) + '%'\n",
    "b4 = dados['B02_04'].value_counts(normalize = True).mul(100).round(1).astype(str) + '%'\n",
    "b5 = dados['B02_05'].value_counts(normalize = True).mul(100).round(1).astype(str) + '%'\n",
    "b6 = dados['B02_06'].value_counts(normalize = True).mul(100).round(1).astype(str) + '%'\n",
    "b7 = dados['B02_07'].value_counts(normalize = True).mul(100).round(1).astype(str) + '%'\n",
    "b8 = dados['B02_08'].value_counts(normalize = True).mul(100).round(1).astype(str) + '%'\n",
    "b9 = dados['B02_09'].value_counts(normalize = True).mul(100).round(1).astype(str) + '%'\n",
    "b10 = dados['B02_10'].value_counts(normalize = True).mul(100).round(1).astype(str) + '%'\n",
    "b11 = dados['B02_11'].value_counts(normalize = True).mul(100).round(1).astype(str) + '%'\n",
    "\n",
    "bloco2 = pd.DataFrame({'B02_01': b1, 'B02_02': b2, 'B02_03': b3, 'B02_04': b4,\n",
    "                       'B02_05': b5, 'B02_06': b6, 'B02_07': b7, 'B02_08': b8,\n",
    "                       'B02_09': b9, 'B02_10': b10, 'B02_11': b11})"
   ]
  },
  {
   "cell_type": "code",
   "execution_count": 12,
   "id": "db9239af",
   "metadata": {},
   "outputs": [
    {
     "data": {
      "text/html": [
       "<div>\n",
       "<style scoped>\n",
       "    .dataframe tbody tr th:only-of-type {\n",
       "        vertical-align: middle;\n",
       "    }\n",
       "\n",
       "    .dataframe tbody tr th {\n",
       "        vertical-align: top;\n",
       "    }\n",
       "\n",
       "    .dataframe thead th {\n",
       "        text-align: right;\n",
       "    }\n",
       "</style>\n",
       "<table border=\"1\" class=\"dataframe\">\n",
       "  <thead>\n",
       "    <tr style=\"text-align: right;\">\n",
       "      <th></th>\n",
       "      <th>B02_01</th>\n",
       "      <th>B02_02</th>\n",
       "      <th>B02_03</th>\n",
       "      <th>B02_04</th>\n",
       "      <th>B02_05</th>\n",
       "      <th>B02_06</th>\n",
       "      <th>B02_07</th>\n",
       "      <th>B02_08</th>\n",
       "      <th>B02_09</th>\n",
       "      <th>B02_10</th>\n",
       "      <th>B02_11</th>\n",
       "    </tr>\n",
       "  </thead>\n",
       "  <tbody>\n",
       "    <tr>\n",
       "      <th>0.0</th>\n",
       "      <td>6.1%</td>\n",
       "      <td>13.4%</td>\n",
       "      <td>6.2%</td>\n",
       "      <td>9.0%</td>\n",
       "      <td>7.5%</td>\n",
       "      <td>7.5%</td>\n",
       "      <td>22.7%</td>\n",
       "      <td>11.9%</td>\n",
       "      <td>4.5%</td>\n",
       "      <td>9.2%</td>\n",
       "      <td>23.9%</td>\n",
       "    </tr>\n",
       "    <tr>\n",
       "      <th>1.0</th>\n",
       "      <td>51.5%</td>\n",
       "      <td>44.8%</td>\n",
       "      <td>49.2%</td>\n",
       "      <td>44.8%</td>\n",
       "      <td>34.3%</td>\n",
       "      <td>59.7%</td>\n",
       "      <td>60.6%</td>\n",
       "      <td>59.7%</td>\n",
       "      <td>41.8%</td>\n",
       "      <td>41.5%</td>\n",
       "      <td>58.2%</td>\n",
       "    </tr>\n",
       "    <tr>\n",
       "      <th>2.0</th>\n",
       "      <td>42.4%</td>\n",
       "      <td>40.3%</td>\n",
       "      <td>43.1%</td>\n",
       "      <td>46.3%</td>\n",
       "      <td>58.2%</td>\n",
       "      <td>32.8%</td>\n",
       "      <td>16.7%</td>\n",
       "      <td>28.4%</td>\n",
       "      <td>53.7%</td>\n",
       "      <td>49.2%</td>\n",
       "      <td>17.9%</td>\n",
       "    </tr>\n",
       "    <tr>\n",
       "      <th>*</th>\n",
       "      <td>NaN</td>\n",
       "      <td>1.5%</td>\n",
       "      <td>1.5%</td>\n",
       "      <td>NaN</td>\n",
       "      <td>NaN</td>\n",
       "      <td>NaN</td>\n",
       "      <td>NaN</td>\n",
       "      <td>NaN</td>\n",
       "      <td>NaN</td>\n",
       "      <td>NaN</td>\n",
       "      <td>NaN</td>\n",
       "    </tr>\n",
       "  </tbody>\n",
       "</table>\n",
       "</div>"
      ],
      "text/plain": [
       "    B02_01 B02_02 B02_03 B02_04 B02_05 B02_06 B02_07 B02_08 B02_09 B02_10  \\\n",
       "0.0   6.1%  13.4%   6.2%   9.0%   7.5%   7.5%  22.7%  11.9%   4.5%   9.2%   \n",
       "1.0  51.5%  44.8%  49.2%  44.8%  34.3%  59.7%  60.6%  59.7%  41.8%  41.5%   \n",
       "2.0  42.4%  40.3%  43.1%  46.3%  58.2%  32.8%  16.7%  28.4%  53.7%  49.2%   \n",
       "*      NaN   1.5%   1.5%    NaN    NaN    NaN    NaN    NaN    NaN    NaN   \n",
       "\n",
       "    B02_11  \n",
       "0.0  23.9%  \n",
       "1.0  58.2%  \n",
       "2.0  17.9%  \n",
       "*      NaN  "
      ]
     },
     "execution_count": 12,
     "metadata": {},
     "output_type": "execute_result"
    }
   ],
   "source": [
    "bloco2"
   ]
  },
  {
   "cell_type": "markdown",
   "id": "7e8c4ef0",
   "metadata": {},
   "source": [
    "**3º) Estrutura e Apoio da Instituição**"
   ]
  },
  {
   "cell_type": "markdown",
   "id": "45e4d81e",
   "metadata": {},
   "source": [
    "* **B02_12:** Apoio pedagógico (monitoria, atendimento dos professores, aulas de reforço, etc.);\n",
    "* **B02_13:** Estrutura física em geral: sala de aula, biblioteca, laboratório etc;\n",
    "* **B02_14:** Metodologias de ensino adotadas pelos professores;\n",
    "* **B02_15:** Interesse dos professores pela minha aprendizagem;\n",
    "* **B02_16:** Obtenção de orientações da coordenação do curso quando solicitadas;\n",
    "* **B02_17:** Disponibilidade de informações sobre o funcionamento do curso e/ou instituição."
   ]
  },
  {
   "cell_type": "code",
   "execution_count": 13,
   "id": "4c3df96f",
   "metadata": {},
   "outputs": [],
   "source": [
    "c1 = dados['B02_12'].value_counts(normalize = True).mul(100).round(1).astype(str) + '%'\n",
    "c2 = dados['B02_13'].value_counts(normalize = True).mul(100).round(1).astype(str) + '%'\n",
    "c3 = dados['B02_14'].value_counts(normalize = True).mul(100).round(1).astype(str) + '%'\n",
    "c4 = dados['B02_15'].value_counts(normalize = True).mul(100).round(1).astype(str) + '%'\n",
    "c5 = dados['B02_16'].value_counts(normalize = True).mul(100).round(1).astype(str) + '%'\n",
    "c6 = dados['B02_17'].value_counts(normalize = True).mul(100).round(1).astype(str) + '%'\n",
    "\n",
    "bloco3 = pd.DataFrame({'B02_12': c1, 'B02_13': c2, 'B02_14': c3, 'B02_15': c4,\n",
    "                       'B02_16': c5, 'B02_17': c6,})"
   ]
  },
  {
   "cell_type": "code",
   "execution_count": 14,
   "id": "c1ef417b",
   "metadata": {},
   "outputs": [
    {
     "data": {
      "text/html": [
       "<div>\n",
       "<style scoped>\n",
       "    .dataframe tbody tr th:only-of-type {\n",
       "        vertical-align: middle;\n",
       "    }\n",
       "\n",
       "    .dataframe tbody tr th {\n",
       "        vertical-align: top;\n",
       "    }\n",
       "\n",
       "    .dataframe thead th {\n",
       "        text-align: right;\n",
       "    }\n",
       "</style>\n",
       "<table border=\"1\" class=\"dataframe\">\n",
       "  <thead>\n",
       "    <tr style=\"text-align: right;\">\n",
       "      <th></th>\n",
       "      <th>B02_12</th>\n",
       "      <th>B02_13</th>\n",
       "      <th>B02_14</th>\n",
       "      <th>B02_15</th>\n",
       "      <th>B02_16</th>\n",
       "      <th>B02_17</th>\n",
       "    </tr>\n",
       "  </thead>\n",
       "  <tbody>\n",
       "    <tr>\n",
       "      <th>0.0</th>\n",
       "      <td>3.0%</td>\n",
       "      <td>9.0%</td>\n",
       "      <td>13.4%</td>\n",
       "      <td>10.8%</td>\n",
       "      <td>4.5%</td>\n",
       "      <td>10.9%</td>\n",
       "    </tr>\n",
       "    <tr>\n",
       "      <th>1.0</th>\n",
       "      <td>57.6%</td>\n",
       "      <td>43.3%</td>\n",
       "      <td>56.7%</td>\n",
       "      <td>46.2%</td>\n",
       "      <td>13.4%</td>\n",
       "      <td>54.7%</td>\n",
       "    </tr>\n",
       "    <tr>\n",
       "      <th>2.0</th>\n",
       "      <td>39.4%</td>\n",
       "      <td>47.8%</td>\n",
       "      <td>29.9%</td>\n",
       "      <td>43.1%</td>\n",
       "      <td>22.4%</td>\n",
       "      <td>34.4%</td>\n",
       "    </tr>\n",
       "    <tr>\n",
       "      <th>3.0</th>\n",
       "      <td>NaN</td>\n",
       "      <td>NaN</td>\n",
       "      <td>NaN</td>\n",
       "      <td>NaN</td>\n",
       "      <td>59.7%</td>\n",
       "      <td>NaN</td>\n",
       "    </tr>\n",
       "  </tbody>\n",
       "</table>\n",
       "</div>"
      ],
      "text/plain": [
       "    B02_12 B02_13 B02_14 B02_15 B02_16 B02_17\n",
       "0.0   3.0%   9.0%  13.4%  10.8%   4.5%  10.9%\n",
       "1.0  57.6%  43.3%  56.7%  46.2%  13.4%  54.7%\n",
       "2.0  39.4%  47.8%  29.9%  43.1%  22.4%  34.4%\n",
       "3.0    NaN    NaN    NaN    NaN  59.7%    NaN"
      ]
     },
     "execution_count": 14,
     "metadata": {},
     "output_type": "execute_result"
    }
   ],
   "source": [
    "bloco3"
   ]
  },
  {
   "cell_type": "markdown",
   "id": "ddc2b616",
   "metadata": {},
   "source": [
    "**4º) Ambiente Escolar**"
   ]
  },
  {
   "cell_type": "markdown",
   "id": "e16217f9",
   "metadata": {},
   "source": [
    "* **B02_18:** Bem-estar do estudante nesta Instituição;\n",
    "* **B02_19:** Relacionamento com os professores;\n",
    "* **B02_20:** Relacionamento com os colegas de sala;\n",
    "* **B02_21:** Integração e acolhimento do estudante ao ambiente escolar;\n",
    "* **B02_22:** Interação com os professores fora do horário das aulas."
   ]
  },
  {
   "cell_type": "code",
   "execution_count": 15,
   "id": "05f72647",
   "metadata": {},
   "outputs": [],
   "source": [
    "d1 = dados['B02_18'].value_counts(normalize = True).mul(100).round(1).astype(str) + '%'\n",
    "d2 = dados['B02_19'].value_counts(normalize = True).mul(100).round(1).astype(str) + '%'\n",
    "d3 = dados['B02_20'].value_counts(normalize = True).mul(100).round(1).astype(str) + '%'\n",
    "d4 = dados['B02_21'].value_counts(normalize = True).mul(100).round(1).astype(str) + '%'\n",
    "d5 = dados['B02_22'].value_counts(normalize = True).mul(100).round(1).astype(str) + '%'\n",
    "\n",
    "bloco4 = pd.DataFrame({'B02_18': d1, 'B02_19': d2, 'B02_20': d3, 'B02_21': d4,\n",
    "                       'B02_22': d5})"
   ]
  },
  {
   "cell_type": "code",
   "execution_count": 16,
   "id": "28deaf37",
   "metadata": {},
   "outputs": [
    {
     "data": {
      "text/html": [
       "<div>\n",
       "<style scoped>\n",
       "    .dataframe tbody tr th:only-of-type {\n",
       "        vertical-align: middle;\n",
       "    }\n",
       "\n",
       "    .dataframe tbody tr th {\n",
       "        vertical-align: top;\n",
       "    }\n",
       "\n",
       "    .dataframe thead th {\n",
       "        text-align: right;\n",
       "    }\n",
       "</style>\n",
       "<table border=\"1\" class=\"dataframe\">\n",
       "  <thead>\n",
       "    <tr style=\"text-align: right;\">\n",
       "      <th></th>\n",
       "      <th>B02_18</th>\n",
       "      <th>B02_19</th>\n",
       "      <th>B02_20</th>\n",
       "      <th>B02_21</th>\n",
       "      <th>B02_22</th>\n",
       "    </tr>\n",
       "  </thead>\n",
       "  <tbody>\n",
       "    <tr>\n",
       "      <th>0.0</th>\n",
       "      <td>7.6%</td>\n",
       "      <td>9.0%</td>\n",
       "      <td>4.5%</td>\n",
       "      <td>11.9%</td>\n",
       "      <td>5.9%</td>\n",
       "    </tr>\n",
       "    <tr>\n",
       "      <th>1.0</th>\n",
       "      <td>45.5%</td>\n",
       "      <td>32.8%</td>\n",
       "      <td>34.3%</td>\n",
       "      <td>50.7%</td>\n",
       "      <td>29.4%</td>\n",
       "    </tr>\n",
       "    <tr>\n",
       "      <th>2.0</th>\n",
       "      <td>47.0%</td>\n",
       "      <td>58.2%</td>\n",
       "      <td>61.2%</td>\n",
       "      <td>37.3%</td>\n",
       "      <td>35.3%</td>\n",
       "    </tr>\n",
       "    <tr>\n",
       "      <th>3.0</th>\n",
       "      <td>NaN</td>\n",
       "      <td>NaN</td>\n",
       "      <td>NaN</td>\n",
       "      <td>NaN</td>\n",
       "      <td>29.4%</td>\n",
       "    </tr>\n",
       "  </tbody>\n",
       "</table>\n",
       "</div>"
      ],
      "text/plain": [
       "    B02_18 B02_19 B02_20 B02_21 B02_22\n",
       "0.0   7.6%   9.0%   4.5%  11.9%   5.9%\n",
       "1.0  45.5%  32.8%  34.3%  50.7%  29.4%\n",
       "2.0  47.0%  58.2%  61.2%  37.3%  35.3%\n",
       "3.0    NaN    NaN    NaN    NaN  29.4%"
      ]
     },
     "execution_count": 16,
     "metadata": {},
     "output_type": "execute_result"
    }
   ],
   "source": [
    "bloco4"
   ]
  },
  {
   "cell_type": "markdown",
   "id": "fa84064c",
   "metadata": {},
   "source": [
    "**5º) Fatores Pessoais**"
   ]
  },
  {
   "cell_type": "markdown",
   "id": "330cea18",
   "metadata": {},
   "source": [
    "* **B02_23:** Tempo disponível para realizar as atividades extraclasse;\n",
    "* **B02_24:** Possibilidade para conciliar as atividades do curso com atividades de lazer ou compromisso familiares;\n",
    "* **B02_25:** Motivação com os estudos;\n",
    "* **B02_26:** Possiilidade de conciliar trabalho e estudo;\n",
    "* **B02_27:** Transporte/Locomoção para ir e vir para a Instituição;\n",
    "* **B02_28:** Base dos conhecimentos adquiridos nas escolas em que estudei anteriormente para a minha aprendizagem no curso;\n",
    "* **B02_29:** Incetivos aos estudos pela minha família ou por outras pessoas importantes para mim"
   ]
  },
  {
   "cell_type": "code",
   "execution_count": 17,
   "id": "45ddeda4",
   "metadata": {},
   "outputs": [],
   "source": [
    "e1 = dados['B02_23'].value_counts(normalize = True).mul(100).round(1).astype(str) + '%'\n",
    "e2 = dados['B02_24'].value_counts(normalize = True).mul(100).round(1).astype(str) + '%'\n",
    "e3 = dados['B02_25'].value_counts(normalize = True).mul(100).round(1).astype(str) + '%'\n",
    "e4 = dados['B02_26'].value_counts(normalize = True).mul(100).round(1).astype(str) + '%'\n",
    "e5 = dados['B02_27'].value_counts(normalize = True).mul(100).round(1).astype(str) + '%'\n",
    "e6 = dados['B02_28'].value_counts(normalize = True).mul(100).round(1).astype(str) + '%'\n",
    "e7 = dados['B02_29'].value_counts(normalize = True).mul(100).round(1).astype(str) + '%'\n",
    "\n",
    "bloco5 = pd.DataFrame({'B02_23': e1, 'B02_24': e2, 'B02_24': e3, 'B02_26': e4,\n",
    "                       'B02_27': e5, 'B02_28': e6, 'B02_29': e7,})"
   ]
  },
  {
   "cell_type": "code",
   "execution_count": 18,
   "id": "59b2872d",
   "metadata": {},
   "outputs": [
    {
     "data": {
      "text/html": [
       "<div>\n",
       "<style scoped>\n",
       "    .dataframe tbody tr th:only-of-type {\n",
       "        vertical-align: middle;\n",
       "    }\n",
       "\n",
       "    .dataframe tbody tr th {\n",
       "        vertical-align: top;\n",
       "    }\n",
       "\n",
       "    .dataframe thead th {\n",
       "        text-align: right;\n",
       "    }\n",
       "</style>\n",
       "<table border=\"1\" class=\"dataframe\">\n",
       "  <thead>\n",
       "    <tr style=\"text-align: right;\">\n",
       "      <th></th>\n",
       "      <th>B02_23</th>\n",
       "      <th>B02_24</th>\n",
       "      <th>B02_26</th>\n",
       "      <th>B02_27</th>\n",
       "      <th>B02_28</th>\n",
       "      <th>B02_29</th>\n",
       "    </tr>\n",
       "  </thead>\n",
       "  <tbody>\n",
       "    <tr>\n",
       "      <th>0.0</th>\n",
       "      <td>23.5%</td>\n",
       "      <td>19.1%</td>\n",
       "      <td>19.1%</td>\n",
       "      <td>10.4%</td>\n",
       "      <td>36.8%</td>\n",
       "      <td>7.5%</td>\n",
       "    </tr>\n",
       "    <tr>\n",
       "      <th>1.0</th>\n",
       "      <td>58.8%</td>\n",
       "      <td>51.5%</td>\n",
       "      <td>38.2%</td>\n",
       "      <td>28.4%</td>\n",
       "      <td>38.2%</td>\n",
       "      <td>25.4%</td>\n",
       "    </tr>\n",
       "    <tr>\n",
       "      <th>2.0</th>\n",
       "      <td>17.6%</td>\n",
       "      <td>29.4%</td>\n",
       "      <td>14.7%</td>\n",
       "      <td>34.3%</td>\n",
       "      <td>25.0%</td>\n",
       "      <td>67.2%</td>\n",
       "    </tr>\n",
       "    <tr>\n",
       "      <th>3.0</th>\n",
       "      <td>NaN</td>\n",
       "      <td>NaN</td>\n",
       "      <td>27.9%</td>\n",
       "      <td>26.9%</td>\n",
       "      <td>NaN</td>\n",
       "      <td>NaN</td>\n",
       "    </tr>\n",
       "  </tbody>\n",
       "</table>\n",
       "</div>"
      ],
      "text/plain": [
       "    B02_23 B02_24 B02_26 B02_27 B02_28 B02_29\n",
       "0.0  23.5%  19.1%  19.1%  10.4%  36.8%   7.5%\n",
       "1.0  58.8%  51.5%  38.2%  28.4%  38.2%  25.4%\n",
       "2.0  17.6%  29.4%  14.7%  34.3%  25.0%  67.2%\n",
       "3.0    NaN    NaN  27.9%  26.9%    NaN    NaN"
      ]
     },
     "execution_count": 18,
     "metadata": {},
     "output_type": "execute_result"
    }
   ],
   "source": [
    "bloco5"
   ]
  },
  {
   "cell_type": "markdown",
   "id": "8b73187e",
   "metadata": {},
   "source": [
    "### Análise dos Dados 2: motivos que mais influenciam os estudantes a se evadirem"
   ]
  },
  {
   "cell_type": "code",
   "execution_count": 19,
   "id": "b105625b",
   "metadata": {},
   "outputs": [],
   "source": [
    "import nltk\n",
    "from nltk.corpus import PlaintextCorpusReader\n",
    "from nltk.corpus import stopwords\n",
    "from matplotlib.colors import ListedColormap\n",
    "from wordcloud import WordCloud"
   ]
  },
  {
   "cell_type": "code",
   "execution_count": 20,
   "id": "73dbe9d2",
   "metadata": {},
   "outputs": [],
   "source": [
    "corpus = PlaintextCorpusReader(\"Arquivos\", \".*\")\n",
    "\n",
    "arquivos = corpus.fileids()\n",
    "\n",
    "comentarios = corpus.raw(\"comentarios.txt\")\n",
    "troca_de_curso = corpus.raw(\"troca_de_curso.txt\")\n",
    "reprovação = corpus.raw(\"reprovacao.txt\")"
   ]
  },
  {
   "cell_type": "code",
   "execution_count": 21,
   "id": "097b22f2",
   "metadata": {},
   "outputs": [
    {
     "data": {
      "text/plain": [
       "<wordcloud.wordcloud.WordCloud at 0x251e00c6760>"
      ]
     },
     "execution_count": 21,
     "metadata": {},
     "output_type": "execute_result"
    }
   ],
   "source": [
    "todo_texto = corpus.raw()\n",
    "\n",
    "stops = stopwords.words(\"portuguese\")\n",
    "\n",
    "mapa_cores = ListedColormap(['orange', 'green', 'red', 'magenta'])\n",
    "\n",
    "nuvem1 = WordCloud(background_color = 'white',\n",
    "                   colormap = mapa_cores,\n",
    "                   stopwords = stops,\n",
    "                   max_words = 100)\n",
    "nuvem2 = WordCloud(background_color = 'white',\n",
    "                   colormap = mapa_cores,\n",
    "                   stopwords = stops,\n",
    "                   max_words = 100)\n",
    "nuvem3 = WordCloud(background_color = 'white',\n",
    "                   colormap = mapa_cores,\n",
    "                   stopwords = stops,\n",
    "                   max_words = 100)\n",
    "\n",
    "nuvem1.generate(comentarios)\n",
    "nuvem2.generate(troca_de_curso)\n",
    "nuvem3.generate(reprovação)"
   ]
  },
  {
   "cell_type": "code",
   "execution_count": 22,
   "id": "080e302a",
   "metadata": {},
   "outputs": [
    {
     "data": {
      "text/plain": [
       "(-0.5, 399.5, 199.5, -0.5)"
      ]
     },
     "execution_count": 22,
     "metadata": {},
     "output_type": "execute_result"
    },
    {
     "data": {
      "image/png": "[encoded data removed]",
      "text/plain": [
       "<Figure size 432x288 with 1 Axes>"
      ]
     },
     "metadata": {
      "needs_background": "light"
     },
     "output_type": "display_data"
    }
   ],
   "source": [
    "# Comentários a respeito do curso\n",
    "\n",
    "plt.imshow(nuvem1)\n",
    "plt.axis(\"off\")"
   ]
  },
  {
   "cell_type": "code",
   "execution_count": 23,
   "id": "1fdb8a1e",
   "metadata": {},
   "outputs": [
    {
     "data": {
      "text/plain": [
       "(-0.5, 399.5, 199.5, -0.5)"
      ]
     },
     "execution_count": 23,
     "metadata": {},
     "output_type": "execute_result"
    },
    {
     "data": {
      "image/png": "[encoded data removed]",
      "text/plain": [
       "<Figure size 432x288 with 1 Axes>"
      ]
     },
     "metadata": {
      "needs_background": "light"
     },
     "output_type": "display_data"
    }
   ],
   "source": [
    "# Motivos da escolha do curso ou uma possível troca\n",
    "\n",
    "plt.imshow(nuvem2)\n",
    "plt.axis(\"off\")"
   ]
  },
  {
   "cell_type": "code",
   "execution_count": 24,
   "id": "4210319b",
   "metadata": {},
   "outputs": [
    {
     "data": {
      "text/plain": [
       "(-0.5, 399.5, 199.5, -0.5)"
      ]
     },
     "execution_count": 24,
     "metadata": {},
     "output_type": "execute_result"
    },
    {
     "data": {
      "image/png": "[encoded data removed]",
      "text/plain": [
       "<Figure size 432x288 with 1 Axes>"
      ]
     },
     "metadata": {
      "needs_background": "light"
     },
     "output_type": "display_data"
    }
   ],
   "source": [
    "# Disciplinas que mais reprovam ou causam maiores dificuldades aos estudantes\n",
    "\n",
    "plt.imshow(nuvem3)\n",
    "plt.axis(\"off\")"
   ]
  },
  {
   "cell_type": "markdown",
   "id": "925b477b",
   "metadata": {},
   "source": [
    "### Resultados"
   ]
  },
  {
   "cell_type": "markdown",
   "id": "64d54a62",
   "metadata": {},
   "source": [
    "**Pontos positivos:**\n",
    "* Declararam-se motivados com os estudos;\n",
    "* Estão bem ambientados com o meio acadêmico;\n",
    "* Possuem boa relação com os professores e os colegas de curso;\n",
    "* A qualidade da instituição e a gratuidade do curso foram importantes para a escolha de ingressarem na universidade;\n",
    "* Estão satisfeitos com o apoio pedagógio que recebem."
   ]
  },
  {
   "cell_type": "markdown",
   "id": "80ed80fa",
   "metadata": {},
   "source": [
    "**Ponto negativos:**\n",
    "* Apenas 27,9% dos estudantes tem tempo integral para os estudos;\n",
    "* Parte dos alunos ingressaram no curso sem informações sobre o mesmo;\n",
    "* Relação entre a teoria e a prática;\n",
    "* Desempenho acadêmico até o momento (alunos com dificuldades em algumas matérias);\n",
    "* Falta de procura por parte dos alunos por orientações aos coordenadores do curso."
   ]
  },
  {
   "cell_type": "markdown",
   "id": "d1df1348",
   "metadata": {},
   "source": [
    "**Fatores que mais influenciam para a ocorrência de evasão**\n",
    "* Falta de afinidade com a área de exatas;\n",
    "* Preferência por outros cursos;\n",
    "* Incerteza quanto ao mercado de trabalho;\n",
    "* Reprovação (principalmente nos 4 primeiros semestres);\n",
    "* Dificuldades de conciliar trabalho e estudo."
   ]
  },
  {
   "cell_type": "markdown",
   "id": "b477b68d",
   "metadata": {},
   "source": [
    "**Artigo Publicado:** https://ri.ufs.br/bitstream/riufs/13191/17/16.pdf"
   ]
  },
  {
   "cell_type": "markdown",
   "id": "181a7df7",
   "metadata": {},
   "source": [
    "**Estudo realizado no periodo de 01/07/2019 a 31/12/2019 sobre bolsa INTEGRAUFS.**"
   ]
  }
 ],
 "metadata": {
  "kernelspec": {
   "display_name": "Python 3",
   "language": "python",
   "name": "python3"
  },
  "language_info": {
   "codemirror_mode": {
    "name": "ipython",
    "version": 3
   },
   "file_extension": ".py",
   "mimetype": "text/x-python",
   "name": "python",
   "nbconvert_exporter": "python",
   "pygments_lexer": "ipython3",
   "version": "3.8.8"
  }
 },
 "nbformat": 4,
 "nbformat_minor": 5
}
